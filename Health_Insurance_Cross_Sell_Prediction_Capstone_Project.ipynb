{
  "nbformat": 4,
  "nbformat_minor": 0,
  "metadata": {
    "colab": {
      "name": "Health Insurance Cross Sell Prediction - Capstone Project.ipynb",
      "provenance": [],
      "collapsed_sections": [],
      "include_colab_link": true
    },
    "kernelspec": {
      "name": "python3",
      "display_name": "Python 3"
    },
    "language_info": {
      "name": "python"
    },
    "accelerator": "GPU"
  },
  "cells": [
    {
      "cell_type": "markdown",
      "metadata": {
        "id": "view-in-github",
        "colab_type": "text"
      },
      "source": [
        "<a href=\"https://colab.research.google.com/github/nihalhabeeb/Health_Insurance_Cross_Sell_Prediction/blob/main/Health_Insurance_Cross_Sell_Prediction_Capstone_Project.ipynb\" target=\"_parent\"><img src=\"https://colab.research.google.com/assets/colab-badge.svg\" alt=\"Open In Colab\"/></a>"
      ]
    },
    {
      "cell_type": "markdown",
      "source": [
        "## **Problem Statement**"
      ],
      "metadata": {
        "id": "5osOkxFuO8GV"
      }
    },
    {
      "cell_type": "markdown",
      "source": [
        "#### Our client is an Insurance company that has provided Health Insurance to its customers now they need your help in building a model to predict whether the policyholders (customers) from past year will also be interested in Vehicle Insurance provided by the company.\n",
        "#### An insurance policy is an arrangement by which a company undertakes to provide a guarantee of compensation for specified loss, damage, illness, or death in return for the payment of a specified premium. A premium is a sum of money that the customer needs to pay regularly to an insurance company for this guarantee.\n",
        "#### For example, you may pay a premium of Rs. 5000 each year for a health insurance cover of Rs. 200,000/- so that if, God forbid, you fall ill and need to be hospitalised in that year, the insurance provider company will bear the cost of hospitalisation etc. for upto Rs. 200,000. Now if you are wondering how can company bear such high hospitalisation cost when it charges a premium of only Rs. 5000/-, that is where the concept of probabilities comes in picture. For example, like you, there may be 100 customers who would be paying a premium of Rs. 5000 every year, but only a few of them (say 2-3) would get hospitalised that year and not everyone. This way everyone shares the risk of everyone else.\n",
        "#### Just like medical insurance, there is vehicle insurance where every year customer needs to pay a premium of certain amount to insurance provider company so that in case of unfortunate accident by the vehicle, the insurance provider company will provide a compensation (called ‘sum assured’) to the customer.\n",
        "#### Building a model to predict whether a customer would be interested in Vehicle Insurance is extremely helpful for the company because it can then accordingly plan its communication strategy to reach out to those customers and optimise its business model and revenue.\n",
        "#### Now, in order to predict, whether the customer would be interested in Vehicle insurance, you have information about demographics (gender, age, region code type), Vehicles (Vehicle Age, Damage), Policy (Premium, sourcing channel) etc."
      ],
      "metadata": {
        "id": "dWUE7YEgPBcX"
      }
    },
    {
      "cell_type": "markdown",
      "source": [
        "### **Attribute Information**"
      ],
      "metadata": {
        "id": "96QMwVoIPG0v"
      }
    },
    {
      "cell_type": "markdown",
      "source": [
        "1. id :\tUnique ID for the customer\n",
        "\n",
        "2. Gender\t: Gender of the customer\n",
        "\n",
        "3. Age :\tAge of the customer\n",
        "\n",
        "4. Driving_License\t0 : Customer does not have DL, 1 : Customer already has DL\n",
        "\n",
        "5. Region_Code :\tUnique code for the region of the customer\n",
        "\n",
        "6. Previously_Insured\t: 1 : Customer already has Vehicle Insurance, 0 : Customer doesn't have Vehicle Insurance\n",
        "\n",
        "7. Vehicle_Age :\tAge of the Vehicle\n",
        "\n",
        "8. Vehicle_Damage\t :1 : Customer got his/her vehicle damaged in the past. 0 : Customer didn't get his/her vehicle damaged in the past.\n",
        "\n",
        "9. Annual_Premium\t: The amount customer needs to pay as premium in the year\n",
        "\n",
        "10. PolicySalesChannel :\tAnonymized Code for the channel of outreaching to the customer ie. Different Agents, Over Mail, Over Phone, In Person, etc.\n",
        "\n",
        "11. Vintage :\tNumber of Days, Customer has been associated with the company\n",
        "\n",
        "12. Response (target) :\t1 : Customer is interested, 0 : Customer is not interested"
      ],
      "metadata": {
        "id": "_HbqCF0hPVnW"
      }
    },
    {
      "cell_type": "code",
      "execution_count": 3,
      "metadata": {
        "id": "qW_mw5PROl1k"
      },
      "outputs": [],
      "source": [
        "# import libraries\n",
        "import pandas  as pd\n",
        "import numpy as np\n",
        "import seaborn as sns\n",
        "import matplotlib.pyplot as plt\n",
        "from sklearn.preprocessing import LabelEncoder \n",
        "from sklearn.model_selection import train_test_split\n",
        "\n",
        "from imblearn.over_sampling import RandomOverSampler\n",
        "from collections import Counter\n",
        "from sklearn.preprocessing import StandardScaler\n",
        "from sklearn.metrics import precision_score,recall_score,accuracy_score,f1_score,confusion_matrix,roc_auc_score,classification_report\n",
        "from xgboost import XGBClassifier\n",
        "\n",
        "sns.set_theme(style=\"darkgrid\")\n",
        "\n",
        "import warnings\n",
        "warnings.filterwarnings('ignore')"
      ]
    },
    {
      "cell_type": "code",
      "source": [
        "# mount Google drive\n",
        "from google.colab import drive\n",
        "drive.mount('/content/drive')"
      ],
      "metadata": {
        "id": "ivr9_Tf7P2i2",
        "colab": {
          "base_uri": "https://localhost:8080/"
        },
        "outputId": "14871d13-7bed-4d1d-a04d-31eeded2b075"
      },
      "execution_count": 4,
      "outputs": [
        {
          "output_type": "stream",
          "name": "stdout",
          "text": [
            "Drive already mounted at /content/drive; to attempt to forcibly remount, call drive.mount(\"/content/drive\", force_remount=True).\n"
          ]
        }
      ]
    },
    {
      "cell_type": "code",
      "source": [
        "data = pd.read_csv('/content/drive/MyDrive/AlmaBetter/Supervised ML Classification - Nihal Habeeb/TRAIN-HEALTH INSURANCE CROSS SELL PREDICTION.csv')\n",
        "data.shape"
      ],
      "metadata": {
        "id": "Zcobt9WEQA0t",
        "colab": {
          "base_uri": "https://localhost:8080/"
        },
        "outputId": "c3caf714-27ec-4c8c-e1f9-8d64c61d9e21"
      },
      "execution_count": 5,
      "outputs": [
        {
          "output_type": "execute_result",
          "data": {
            "text/plain": [
              "(381109, 12)"
            ]
          },
          "metadata": {},
          "execution_count": 5
        }
      ]
    },
    {
      "cell_type": "markdown",
      "source": [
        "#### The dataset contains 381109 rows and 12 columns including the target variable."
      ],
      "metadata": {
        "id": "1FuQpM6kQHdd"
      }
    },
    {
      "cell_type": "code",
      "source": [
        "data.head()"
      ],
      "metadata": {
        "id": "d3ao4JcMQMdo",
        "colab": {
          "base_uri": "https://localhost:8080/",
          "height": 206
        },
        "outputId": "0f499821-309b-4184-853d-96a6dc34eed5"
      },
      "execution_count": 6,
      "outputs": [
        {
          "output_type": "execute_result",
          "data": {
            "text/plain": [
              "   id  Gender  Age  Driving_License  Region_Code  Previously_Insured  \\\n",
              "0   1    Male   44                1         28.0                   0   \n",
              "1   2    Male   76                1          3.0                   0   \n",
              "2   3    Male   47                1         28.0                   0   \n",
              "3   4    Male   21                1         11.0                   1   \n",
              "4   5  Female   29                1         41.0                   1   \n",
              "\n",
              "  Vehicle_Age Vehicle_Damage  Annual_Premium  Policy_Sales_Channel  Vintage  \\\n",
              "0   > 2 Years            Yes         40454.0                  26.0      217   \n",
              "1    1-2 Year             No         33536.0                  26.0      183   \n",
              "2   > 2 Years            Yes         38294.0                  26.0       27   \n",
              "3    < 1 Year             No         28619.0                 152.0      203   \n",
              "4    < 1 Year             No         27496.0                 152.0       39   \n",
              "\n",
              "   Response  \n",
              "0         1  \n",
              "1         0  \n",
              "2         1  \n",
              "3         0  \n",
              "4         0  "
            ],
            "text/html": [
              "\n",
              "  <div id=\"df-0dbf6d09-6f6e-456b-b829-8ec1fe5fde05\">\n",
              "    <div class=\"colab-df-container\">\n",
              "      <div>\n",
              "<style scoped>\n",
              "    .dataframe tbody tr th:only-of-type {\n",
              "        vertical-align: middle;\n",
              "    }\n",
              "\n",
              "    .dataframe tbody tr th {\n",
              "        vertical-align: top;\n",
              "    }\n",
              "\n",
              "    .dataframe thead th {\n",
              "        text-align: right;\n",
              "    }\n",
              "</style>\n",
              "<table border=\"1\" class=\"dataframe\">\n",
              "  <thead>\n",
              "    <tr style=\"text-align: right;\">\n",
              "      <th></th>\n",
              "      <th>id</th>\n",
              "      <th>Gender</th>\n",
              "      <th>Age</th>\n",
              "      <th>Driving_License</th>\n",
              "      <th>Region_Code</th>\n",
              "      <th>Previously_Insured</th>\n",
              "      <th>Vehicle_Age</th>\n",
              "      <th>Vehicle_Damage</th>\n",
              "      <th>Annual_Premium</th>\n",
              "      <th>Policy_Sales_Channel</th>\n",
              "      <th>Vintage</th>\n",
              "      <th>Response</th>\n",
              "    </tr>\n",
              "  </thead>\n",
              "  <tbody>\n",
              "    <tr>\n",
              "      <th>0</th>\n",
              "      <td>1</td>\n",
              "      <td>Male</td>\n",
              "      <td>44</td>\n",
              "      <td>1</td>\n",
              "      <td>28.0</td>\n",
              "      <td>0</td>\n",
              "      <td>&gt; 2 Years</td>\n",
              "      <td>Yes</td>\n",
              "      <td>40454.0</td>\n",
              "      <td>26.0</td>\n",
              "      <td>217</td>\n",
              "      <td>1</td>\n",
              "    </tr>\n",
              "    <tr>\n",
              "      <th>1</th>\n",
              "      <td>2</td>\n",
              "      <td>Male</td>\n",
              "      <td>76</td>\n",
              "      <td>1</td>\n",
              "      <td>3.0</td>\n",
              "      <td>0</td>\n",
              "      <td>1-2 Year</td>\n",
              "      <td>No</td>\n",
              "      <td>33536.0</td>\n",
              "      <td>26.0</td>\n",
              "      <td>183</td>\n",
              "      <td>0</td>\n",
              "    </tr>\n",
              "    <tr>\n",
              "      <th>2</th>\n",
              "      <td>3</td>\n",
              "      <td>Male</td>\n",
              "      <td>47</td>\n",
              "      <td>1</td>\n",
              "      <td>28.0</td>\n",
              "      <td>0</td>\n",
              "      <td>&gt; 2 Years</td>\n",
              "      <td>Yes</td>\n",
              "      <td>38294.0</td>\n",
              "      <td>26.0</td>\n",
              "      <td>27</td>\n",
              "      <td>1</td>\n",
              "    </tr>\n",
              "    <tr>\n",
              "      <th>3</th>\n",
              "      <td>4</td>\n",
              "      <td>Male</td>\n",
              "      <td>21</td>\n",
              "      <td>1</td>\n",
              "      <td>11.0</td>\n",
              "      <td>1</td>\n",
              "      <td>&lt; 1 Year</td>\n",
              "      <td>No</td>\n",
              "      <td>28619.0</td>\n",
              "      <td>152.0</td>\n",
              "      <td>203</td>\n",
              "      <td>0</td>\n",
              "    </tr>\n",
              "    <tr>\n",
              "      <th>4</th>\n",
              "      <td>5</td>\n",
              "      <td>Female</td>\n",
              "      <td>29</td>\n",
              "      <td>1</td>\n",
              "      <td>41.0</td>\n",
              "      <td>1</td>\n",
              "      <td>&lt; 1 Year</td>\n",
              "      <td>No</td>\n",
              "      <td>27496.0</td>\n",
              "      <td>152.0</td>\n",
              "      <td>39</td>\n",
              "      <td>0</td>\n",
              "    </tr>\n",
              "  </tbody>\n",
              "</table>\n",
              "</div>\n",
              "      <button class=\"colab-df-convert\" onclick=\"convertToInteractive('df-0dbf6d09-6f6e-456b-b829-8ec1fe5fde05')\"\n",
              "              title=\"Convert this dataframe to an interactive table.\"\n",
              "              style=\"display:none;\">\n",
              "        \n",
              "  <svg xmlns=\"http://www.w3.org/2000/svg\" height=\"24px\"viewBox=\"0 0 24 24\"\n",
              "       width=\"24px\">\n",
              "    <path d=\"M0 0h24v24H0V0z\" fill=\"none\"/>\n",
              "    <path d=\"M18.56 5.44l.94 2.06.94-2.06 2.06-.94-2.06-.94-.94-2.06-.94 2.06-2.06.94zm-11 1L8.5 8.5l.94-2.06 2.06-.94-2.06-.94L8.5 2.5l-.94 2.06-2.06.94zm10 10l.94 2.06.94-2.06 2.06-.94-2.06-.94-.94-2.06-.94 2.06-2.06.94z\"/><path d=\"M17.41 7.96l-1.37-1.37c-.4-.4-.92-.59-1.43-.59-.52 0-1.04.2-1.43.59L10.3 9.45l-7.72 7.72c-.78.78-.78 2.05 0 2.83L4 21.41c.39.39.9.59 1.41.59.51 0 1.02-.2 1.41-.59l7.78-7.78 2.81-2.81c.8-.78.8-2.07 0-2.86zM5.41 20L4 18.59l7.72-7.72 1.47 1.35L5.41 20z\"/>\n",
              "  </svg>\n",
              "      </button>\n",
              "      \n",
              "  <style>\n",
              "    .colab-df-container {\n",
              "      display:flex;\n",
              "      flex-wrap:wrap;\n",
              "      gap: 12px;\n",
              "    }\n",
              "\n",
              "    .colab-df-convert {\n",
              "      background-color: #E8F0FE;\n",
              "      border: none;\n",
              "      border-radius: 50%;\n",
              "      cursor: pointer;\n",
              "      display: none;\n",
              "      fill: #1967D2;\n",
              "      height: 32px;\n",
              "      padding: 0 0 0 0;\n",
              "      width: 32px;\n",
              "    }\n",
              "\n",
              "    .colab-df-convert:hover {\n",
              "      background-color: #E2EBFA;\n",
              "      box-shadow: 0px 1px 2px rgba(60, 64, 67, 0.3), 0px 1px 3px 1px rgba(60, 64, 67, 0.15);\n",
              "      fill: #174EA6;\n",
              "    }\n",
              "\n",
              "    [theme=dark] .colab-df-convert {\n",
              "      background-color: #3B4455;\n",
              "      fill: #D2E3FC;\n",
              "    }\n",
              "\n",
              "    [theme=dark] .colab-df-convert:hover {\n",
              "      background-color: #434B5C;\n",
              "      box-shadow: 0px 1px 3px 1px rgba(0, 0, 0, 0.15);\n",
              "      filter: drop-shadow(0px 1px 2px rgba(0, 0, 0, 0.3));\n",
              "      fill: #FFFFFF;\n",
              "    }\n",
              "  </style>\n",
              "\n",
              "      <script>\n",
              "        const buttonEl =\n",
              "          document.querySelector('#df-0dbf6d09-6f6e-456b-b829-8ec1fe5fde05 button.colab-df-convert');\n",
              "        buttonEl.style.display =\n",
              "          google.colab.kernel.accessAllowed ? 'block' : 'none';\n",
              "\n",
              "        async function convertToInteractive(key) {\n",
              "          const element = document.querySelector('#df-0dbf6d09-6f6e-456b-b829-8ec1fe5fde05');\n",
              "          const dataTable =\n",
              "            await google.colab.kernel.invokeFunction('convertToInteractive',\n",
              "                                                     [key], {});\n",
              "          if (!dataTable) return;\n",
              "\n",
              "          const docLinkHtml = 'Like what you see? Visit the ' +\n",
              "            '<a target=\"_blank\" href=https://colab.research.google.com/notebooks/data_table.ipynb>data table notebook</a>'\n",
              "            + ' to learn more about interactive tables.';\n",
              "          element.innerHTML = '';\n",
              "          dataTable['output_type'] = 'display_data';\n",
              "          await google.colab.output.renderOutput(dataTable, element);\n",
              "          const docLink = document.createElement('div');\n",
              "          docLink.innerHTML = docLinkHtml;\n",
              "          element.appendChild(docLink);\n",
              "        }\n",
              "      </script>\n",
              "    </div>\n",
              "  </div>\n",
              "  "
            ]
          },
          "metadata": {},
          "execution_count": 6
        }
      ]
    },
    {
      "cell_type": "markdown",
      "source": [
        "#### Let us get information regarding missing values."
      ],
      "metadata": {
        "id": "2VnX2r-dQ-dT"
      }
    },
    {
      "cell_type": "code",
      "source": [
        "# checking the data type and non null value count of each variable\n",
        "data.info()"
      ],
      "metadata": {
        "id": "9jdY0jqpQavI",
        "colab": {
          "base_uri": "https://localhost:8080/"
        },
        "outputId": "3eb4df12-3396-4d57-98d8-c555c483219d"
      },
      "execution_count": 7,
      "outputs": [
        {
          "output_type": "stream",
          "name": "stdout",
          "text": [
            "<class 'pandas.core.frame.DataFrame'>\n",
            "RangeIndex: 381109 entries, 0 to 381108\n",
            "Data columns (total 12 columns):\n",
            " #   Column                Non-Null Count   Dtype  \n",
            "---  ------                --------------   -----  \n",
            " 0   id                    381109 non-null  int64  \n",
            " 1   Gender                381109 non-null  object \n",
            " 2   Age                   381109 non-null  int64  \n",
            " 3   Driving_License       381109 non-null  int64  \n",
            " 4   Region_Code           381109 non-null  float64\n",
            " 5   Previously_Insured    381109 non-null  int64  \n",
            " 6   Vehicle_Age           381109 non-null  object \n",
            " 7   Vehicle_Damage        381109 non-null  object \n",
            " 8   Annual_Premium        381109 non-null  float64\n",
            " 9   Policy_Sales_Channel  381109 non-null  float64\n",
            " 10  Vintage               381109 non-null  int64  \n",
            " 11  Response              381109 non-null  int64  \n",
            "dtypes: float64(3), int64(6), object(3)\n",
            "memory usage: 34.9+ MB\n"
          ]
        }
      ]
    },
    {
      "cell_type": "markdown",
      "source": [
        "#### There are no null values in any of the columns.\n",
        "#### We can also check if there are any duplicates in the dataframe."
      ],
      "metadata": {
        "id": "CoHNlhgnQlkh"
      }
    },
    {
      "cell_type": "code",
      "source": [
        "data[data.duplicated()]"
      ],
      "metadata": {
        "id": "niTyhDwfp7zI",
        "colab": {
          "base_uri": "https://localhost:8080/",
          "height": 49
        },
        "outputId": "31207de0-27ec-4ed7-f4d3-3e9cde601c74"
      },
      "execution_count": 8,
      "outputs": [
        {
          "output_type": "execute_result",
          "data": {
            "text/plain": [
              "Empty DataFrame\n",
              "Columns: [id, Gender, Age, Driving_License, Region_Code, Previously_Insured, Vehicle_Age, Vehicle_Damage, Annual_Premium, Policy_Sales_Channel, Vintage, Response]\n",
              "Index: []"
            ],
            "text/html": [
              "\n",
              "  <div id=\"df-69ff0b5a-b1ae-4b12-ab78-9650a429ab15\">\n",
              "    <div class=\"colab-df-container\">\n",
              "      <div>\n",
              "<style scoped>\n",
              "    .dataframe tbody tr th:only-of-type {\n",
              "        vertical-align: middle;\n",
              "    }\n",
              "\n",
              "    .dataframe tbody tr th {\n",
              "        vertical-align: top;\n",
              "    }\n",
              "\n",
              "    .dataframe thead th {\n",
              "        text-align: right;\n",
              "    }\n",
              "</style>\n",
              "<table border=\"1\" class=\"dataframe\">\n",
              "  <thead>\n",
              "    <tr style=\"text-align: right;\">\n",
              "      <th></th>\n",
              "      <th>id</th>\n",
              "      <th>Gender</th>\n",
              "      <th>Age</th>\n",
              "      <th>Driving_License</th>\n",
              "      <th>Region_Code</th>\n",
              "      <th>Previously_Insured</th>\n",
              "      <th>Vehicle_Age</th>\n",
              "      <th>Vehicle_Damage</th>\n",
              "      <th>Annual_Premium</th>\n",
              "      <th>Policy_Sales_Channel</th>\n",
              "      <th>Vintage</th>\n",
              "      <th>Response</th>\n",
              "    </tr>\n",
              "  </thead>\n",
              "  <tbody>\n",
              "  </tbody>\n",
              "</table>\n",
              "</div>\n",
              "      <button class=\"colab-df-convert\" onclick=\"convertToInteractive('df-69ff0b5a-b1ae-4b12-ab78-9650a429ab15')\"\n",
              "              title=\"Convert this dataframe to an interactive table.\"\n",
              "              style=\"display:none;\">\n",
              "        \n",
              "  <svg xmlns=\"http://www.w3.org/2000/svg\" height=\"24px\"viewBox=\"0 0 24 24\"\n",
              "       width=\"24px\">\n",
              "    <path d=\"M0 0h24v24H0V0z\" fill=\"none\"/>\n",
              "    <path d=\"M18.56 5.44l.94 2.06.94-2.06 2.06-.94-2.06-.94-.94-2.06-.94 2.06-2.06.94zm-11 1L8.5 8.5l.94-2.06 2.06-.94-2.06-.94L8.5 2.5l-.94 2.06-2.06.94zm10 10l.94 2.06.94-2.06 2.06-.94-2.06-.94-.94-2.06-.94 2.06-2.06.94z\"/><path d=\"M17.41 7.96l-1.37-1.37c-.4-.4-.92-.59-1.43-.59-.52 0-1.04.2-1.43.59L10.3 9.45l-7.72 7.72c-.78.78-.78 2.05 0 2.83L4 21.41c.39.39.9.59 1.41.59.51 0 1.02-.2 1.41-.59l7.78-7.78 2.81-2.81c.8-.78.8-2.07 0-2.86zM5.41 20L4 18.59l7.72-7.72 1.47 1.35L5.41 20z\"/>\n",
              "  </svg>\n",
              "      </button>\n",
              "      \n",
              "  <style>\n",
              "    .colab-df-container {\n",
              "      display:flex;\n",
              "      flex-wrap:wrap;\n",
              "      gap: 12px;\n",
              "    }\n",
              "\n",
              "    .colab-df-convert {\n",
              "      background-color: #E8F0FE;\n",
              "      border: none;\n",
              "      border-radius: 50%;\n",
              "      cursor: pointer;\n",
              "      display: none;\n",
              "      fill: #1967D2;\n",
              "      height: 32px;\n",
              "      padding: 0 0 0 0;\n",
              "      width: 32px;\n",
              "    }\n",
              "\n",
              "    .colab-df-convert:hover {\n",
              "      background-color: #E2EBFA;\n",
              "      box-shadow: 0px 1px 2px rgba(60, 64, 67, 0.3), 0px 1px 3px 1px rgba(60, 64, 67, 0.15);\n",
              "      fill: #174EA6;\n",
              "    }\n",
              "\n",
              "    [theme=dark] .colab-df-convert {\n",
              "      background-color: #3B4455;\n",
              "      fill: #D2E3FC;\n",
              "    }\n",
              "\n",
              "    [theme=dark] .colab-df-convert:hover {\n",
              "      background-color: #434B5C;\n",
              "      box-shadow: 0px 1px 3px 1px rgba(0, 0, 0, 0.15);\n",
              "      filter: drop-shadow(0px 1px 2px rgba(0, 0, 0, 0.3));\n",
              "      fill: #FFFFFF;\n",
              "    }\n",
              "  </style>\n",
              "\n",
              "      <script>\n",
              "        const buttonEl =\n",
              "          document.querySelector('#df-69ff0b5a-b1ae-4b12-ab78-9650a429ab15 button.colab-df-convert');\n",
              "        buttonEl.style.display =\n",
              "          google.colab.kernel.accessAllowed ? 'block' : 'none';\n",
              "\n",
              "        async function convertToInteractive(key) {\n",
              "          const element = document.querySelector('#df-69ff0b5a-b1ae-4b12-ab78-9650a429ab15');\n",
              "          const dataTable =\n",
              "            await google.colab.kernel.invokeFunction('convertToInteractive',\n",
              "                                                     [key], {});\n",
              "          if (!dataTable) return;\n",
              "\n",
              "          const docLinkHtml = 'Like what you see? Visit the ' +\n",
              "            '<a target=\"_blank\" href=https://colab.research.google.com/notebooks/data_table.ipynb>data table notebook</a>'\n",
              "            + ' to learn more about interactive tables.';\n",
              "          element.innerHTML = '';\n",
              "          dataTable['output_type'] = 'display_data';\n",
              "          await google.colab.output.renderOutput(dataTable, element);\n",
              "          const docLink = document.createElement('div');\n",
              "          docLink.innerHTML = docLinkHtml;\n",
              "          element.appendChild(docLink);\n",
              "        }\n",
              "      </script>\n",
              "    </div>\n",
              "  </div>\n",
              "  "
            ]
          },
          "metadata": {},
          "execution_count": 8
        }
      ]
    },
    {
      "cell_type": "markdown",
      "source": [
        "#### There are no duplicates in the dataframe."
      ],
      "metadata": {
        "id": "OALCpHw0p-10"
      }
    },
    {
      "cell_type": "markdown",
      "source": [
        "**Descriptive Statistics**"
      ],
      "metadata": {
        "id": "QVD0ZCn4QtrB"
      }
    },
    {
      "cell_type": "code",
      "source": [
        "# statistical summary of numerical variables"
      ],
      "metadata": {
        "id": "EGKZyfhiQiWy"
      },
      "execution_count": 9,
      "outputs": []
    },
    {
      "cell_type": "code",
      "source": [
        "data.describe()"
      ],
      "metadata": {
        "id": "WBHNfaUVQ1Ii",
        "colab": {
          "base_uri": "https://localhost:8080/",
          "height": 300
        },
        "outputId": "3489d749-fbfe-412f-8157-b9d4c7e2bd7f"
      },
      "execution_count": 10,
      "outputs": [
        {
          "output_type": "execute_result",
          "data": {
            "text/plain": [
              "                  id            Age  Driving_License    Region_Code  \\\n",
              "count  381109.000000  381109.000000    381109.000000  381109.000000   \n",
              "mean   190555.000000      38.822584         0.997869      26.388807   \n",
              "std    110016.836208      15.511611         0.046110      13.229888   \n",
              "min         1.000000      20.000000         0.000000       0.000000   \n",
              "25%     95278.000000      25.000000         1.000000      15.000000   \n",
              "50%    190555.000000      36.000000         1.000000      28.000000   \n",
              "75%    285832.000000      49.000000         1.000000      35.000000   \n",
              "max    381109.000000      85.000000         1.000000      52.000000   \n",
              "\n",
              "       Previously_Insured  Annual_Premium  Policy_Sales_Channel  \\\n",
              "count       381109.000000   381109.000000         381109.000000   \n",
              "mean             0.458210    30564.389581            112.034295   \n",
              "std              0.498251    17213.155057             54.203995   \n",
              "min              0.000000     2630.000000              1.000000   \n",
              "25%              0.000000    24405.000000             29.000000   \n",
              "50%              0.000000    31669.000000            133.000000   \n",
              "75%              1.000000    39400.000000            152.000000   \n",
              "max              1.000000   540165.000000            163.000000   \n",
              "\n",
              "             Vintage       Response  \n",
              "count  381109.000000  381109.000000  \n",
              "mean      154.347397       0.122563  \n",
              "std        83.671304       0.327936  \n",
              "min        10.000000       0.000000  \n",
              "25%        82.000000       0.000000  \n",
              "50%       154.000000       0.000000  \n",
              "75%       227.000000       0.000000  \n",
              "max       299.000000       1.000000  "
            ],
            "text/html": [
              "\n",
              "  <div id=\"df-4e514b98-278a-4ded-99cb-28d3a62ccf4e\">\n",
              "    <div class=\"colab-df-container\">\n",
              "      <div>\n",
              "<style scoped>\n",
              "    .dataframe tbody tr th:only-of-type {\n",
              "        vertical-align: middle;\n",
              "    }\n",
              "\n",
              "    .dataframe tbody tr th {\n",
              "        vertical-align: top;\n",
              "    }\n",
              "\n",
              "    .dataframe thead th {\n",
              "        text-align: right;\n",
              "    }\n",
              "</style>\n",
              "<table border=\"1\" class=\"dataframe\">\n",
              "  <thead>\n",
              "    <tr style=\"text-align: right;\">\n",
              "      <th></th>\n",
              "      <th>id</th>\n",
              "      <th>Age</th>\n",
              "      <th>Driving_License</th>\n",
              "      <th>Region_Code</th>\n",
              "      <th>Previously_Insured</th>\n",
              "      <th>Annual_Premium</th>\n",
              "      <th>Policy_Sales_Channel</th>\n",
              "      <th>Vintage</th>\n",
              "      <th>Response</th>\n",
              "    </tr>\n",
              "  </thead>\n",
              "  <tbody>\n",
              "    <tr>\n",
              "      <th>count</th>\n",
              "      <td>381109.000000</td>\n",
              "      <td>381109.000000</td>\n",
              "      <td>381109.000000</td>\n",
              "      <td>381109.000000</td>\n",
              "      <td>381109.000000</td>\n",
              "      <td>381109.000000</td>\n",
              "      <td>381109.000000</td>\n",
              "      <td>381109.000000</td>\n",
              "      <td>381109.000000</td>\n",
              "    </tr>\n",
              "    <tr>\n",
              "      <th>mean</th>\n",
              "      <td>190555.000000</td>\n",
              "      <td>38.822584</td>\n",
              "      <td>0.997869</td>\n",
              "      <td>26.388807</td>\n",
              "      <td>0.458210</td>\n",
              "      <td>30564.389581</td>\n",
              "      <td>112.034295</td>\n",
              "      <td>154.347397</td>\n",
              "      <td>0.122563</td>\n",
              "    </tr>\n",
              "    <tr>\n",
              "      <th>std</th>\n",
              "      <td>110016.836208</td>\n",
              "      <td>15.511611</td>\n",
              "      <td>0.046110</td>\n",
              "      <td>13.229888</td>\n",
              "      <td>0.498251</td>\n",
              "      <td>17213.155057</td>\n",
              "      <td>54.203995</td>\n",
              "      <td>83.671304</td>\n",
              "      <td>0.327936</td>\n",
              "    </tr>\n",
              "    <tr>\n",
              "      <th>min</th>\n",
              "      <td>1.000000</td>\n",
              "      <td>20.000000</td>\n",
              "      <td>0.000000</td>\n",
              "      <td>0.000000</td>\n",
              "      <td>0.000000</td>\n",
              "      <td>2630.000000</td>\n",
              "      <td>1.000000</td>\n",
              "      <td>10.000000</td>\n",
              "      <td>0.000000</td>\n",
              "    </tr>\n",
              "    <tr>\n",
              "      <th>25%</th>\n",
              "      <td>95278.000000</td>\n",
              "      <td>25.000000</td>\n",
              "      <td>1.000000</td>\n",
              "      <td>15.000000</td>\n",
              "      <td>0.000000</td>\n",
              "      <td>24405.000000</td>\n",
              "      <td>29.000000</td>\n",
              "      <td>82.000000</td>\n",
              "      <td>0.000000</td>\n",
              "    </tr>\n",
              "    <tr>\n",
              "      <th>50%</th>\n",
              "      <td>190555.000000</td>\n",
              "      <td>36.000000</td>\n",
              "      <td>1.000000</td>\n",
              "      <td>28.000000</td>\n",
              "      <td>0.000000</td>\n",
              "      <td>31669.000000</td>\n",
              "      <td>133.000000</td>\n",
              "      <td>154.000000</td>\n",
              "      <td>0.000000</td>\n",
              "    </tr>\n",
              "    <tr>\n",
              "      <th>75%</th>\n",
              "      <td>285832.000000</td>\n",
              "      <td>49.000000</td>\n",
              "      <td>1.000000</td>\n",
              "      <td>35.000000</td>\n",
              "      <td>1.000000</td>\n",
              "      <td>39400.000000</td>\n",
              "      <td>152.000000</td>\n",
              "      <td>227.000000</td>\n",
              "      <td>0.000000</td>\n",
              "    </tr>\n",
              "    <tr>\n",
              "      <th>max</th>\n",
              "      <td>381109.000000</td>\n",
              "      <td>85.000000</td>\n",
              "      <td>1.000000</td>\n",
              "      <td>52.000000</td>\n",
              "      <td>1.000000</td>\n",
              "      <td>540165.000000</td>\n",
              "      <td>163.000000</td>\n",
              "      <td>299.000000</td>\n",
              "      <td>1.000000</td>\n",
              "    </tr>\n",
              "  </tbody>\n",
              "</table>\n",
              "</div>\n",
              "      <button class=\"colab-df-convert\" onclick=\"convertToInteractive('df-4e514b98-278a-4ded-99cb-28d3a62ccf4e')\"\n",
              "              title=\"Convert this dataframe to an interactive table.\"\n",
              "              style=\"display:none;\">\n",
              "        \n",
              "  <svg xmlns=\"http://www.w3.org/2000/svg\" height=\"24px\"viewBox=\"0 0 24 24\"\n",
              "       width=\"24px\">\n",
              "    <path d=\"M0 0h24v24H0V0z\" fill=\"none\"/>\n",
              "    <path d=\"M18.56 5.44l.94 2.06.94-2.06 2.06-.94-2.06-.94-.94-2.06-.94 2.06-2.06.94zm-11 1L8.5 8.5l.94-2.06 2.06-.94-2.06-.94L8.5 2.5l-.94 2.06-2.06.94zm10 10l.94 2.06.94-2.06 2.06-.94-2.06-.94-.94-2.06-.94 2.06-2.06.94z\"/><path d=\"M17.41 7.96l-1.37-1.37c-.4-.4-.92-.59-1.43-.59-.52 0-1.04.2-1.43.59L10.3 9.45l-7.72 7.72c-.78.78-.78 2.05 0 2.83L4 21.41c.39.39.9.59 1.41.59.51 0 1.02-.2 1.41-.59l7.78-7.78 2.81-2.81c.8-.78.8-2.07 0-2.86zM5.41 20L4 18.59l7.72-7.72 1.47 1.35L5.41 20z\"/>\n",
              "  </svg>\n",
              "      </button>\n",
              "      \n",
              "  <style>\n",
              "    .colab-df-container {\n",
              "      display:flex;\n",
              "      flex-wrap:wrap;\n",
              "      gap: 12px;\n",
              "    }\n",
              "\n",
              "    .colab-df-convert {\n",
              "      background-color: #E8F0FE;\n",
              "      border: none;\n",
              "      border-radius: 50%;\n",
              "      cursor: pointer;\n",
              "      display: none;\n",
              "      fill: #1967D2;\n",
              "      height: 32px;\n",
              "      padding: 0 0 0 0;\n",
              "      width: 32px;\n",
              "    }\n",
              "\n",
              "    .colab-df-convert:hover {\n",
              "      background-color: #E2EBFA;\n",
              "      box-shadow: 0px 1px 2px rgba(60, 64, 67, 0.3), 0px 1px 3px 1px rgba(60, 64, 67, 0.15);\n",
              "      fill: #174EA6;\n",
              "    }\n",
              "\n",
              "    [theme=dark] .colab-df-convert {\n",
              "      background-color: #3B4455;\n",
              "      fill: #D2E3FC;\n",
              "    }\n",
              "\n",
              "    [theme=dark] .colab-df-convert:hover {\n",
              "      background-color: #434B5C;\n",
              "      box-shadow: 0px 1px 3px 1px rgba(0, 0, 0, 0.15);\n",
              "      filter: drop-shadow(0px 1px 2px rgba(0, 0, 0, 0.3));\n",
              "      fill: #FFFFFF;\n",
              "    }\n",
              "  </style>\n",
              "\n",
              "      <script>\n",
              "        const buttonEl =\n",
              "          document.querySelector('#df-4e514b98-278a-4ded-99cb-28d3a62ccf4e button.colab-df-convert');\n",
              "        buttonEl.style.display =\n",
              "          google.colab.kernel.accessAllowed ? 'block' : 'none';\n",
              "\n",
              "        async function convertToInteractive(key) {\n",
              "          const element = document.querySelector('#df-4e514b98-278a-4ded-99cb-28d3a62ccf4e');\n",
              "          const dataTable =\n",
              "            await google.colab.kernel.invokeFunction('convertToInteractive',\n",
              "                                                     [key], {});\n",
              "          if (!dataTable) return;\n",
              "\n",
              "          const docLinkHtml = 'Like what you see? Visit the ' +\n",
              "            '<a target=\"_blank\" href=https://colab.research.google.com/notebooks/data_table.ipynb>data table notebook</a>'\n",
              "            + ' to learn more about interactive tables.';\n",
              "          element.innerHTML = '';\n",
              "          dataTable['output_type'] = 'display_data';\n",
              "          await google.colab.output.renderOutput(dataTable, element);\n",
              "          const docLink = document.createElement('div');\n",
              "          docLink.innerHTML = docLinkHtml;\n",
              "          element.appendChild(docLink);\n",
              "        }\n",
              "      </script>\n",
              "    </div>\n",
              "  </div>\n",
              "  "
            ]
          },
          "metadata": {},
          "execution_count": 10
        }
      ]
    },
    {
      "cell_type": "markdown",
      "source": [
        "We can see Driving_License and Previously_Insured might be binary categorical variables which are in numerical form (0 and 1). In addition, most of the driving license data is 1 (customer has DL)."
      ],
      "metadata": {
        "id": "MHtCFL4ZRL0K"
      }
    },
    {
      "cell_type": "markdown",
      "source": [
        "## **Exploratory Data Analysis**"
      ],
      "metadata": {
        "id": "nm4_HQ90SCG9"
      }
    },
    {
      "cell_type": "markdown",
      "source": [
        "### **Response (target variable)**"
      ],
      "metadata": {
        "id": "VuDKxoRRSH1-"
      }
    },
    {
      "cell_type": "code",
      "source": [
        "sns.countplot(data['Response'])"
      ],
      "metadata": {
        "id": "56jMiHphR-uX",
        "colab": {
          "base_uri": "https://localhost:8080/",
          "height": 305
        },
        "outputId": "1608e868-1363-43c4-c63a-d71ff20e7573"
      },
      "execution_count": 11,
      "outputs": [
        {
          "output_type": "execute_result",
          "data": {
            "text/plain": [
              "<matplotlib.axes._subplots.AxesSubplot at 0x7fa915102910>"
            ]
          },
          "metadata": {},
          "execution_count": 11
        },
        {
          "output_type": "display_data",
          "data": {
            "text/plain": [
              "<Figure size 432x288 with 1 Axes>"
            ],
            "image/png": "[encoded data removed]"
          },
          "metadata": {}
        }
      ]
    },
    {
      "cell_type": "markdown",
      "source": [
        "The data is heavily unbalanced. There are very few interested customers (less than 50000) in comparison to uninterested customers (nearly 350000)."
      ],
      "metadata": {
        "id": "z7aY8wPSSXOg"
      }
    },
    {
      "cell_type": "markdown",
      "source": [
        "Let us explore all the variables in detail."
      ],
      "metadata": {
        "id": "HotoZKV-TR-6"
      }
    },
    {
      "cell_type": "code",
      "source": [
        "# numerical varibles\n",
        "data.describe().columns"
      ],
      "metadata": {
        "id": "uqW-5LpVTGP0",
        "colab": {
          "base_uri": "https://localhost:8080/"
        },
        "outputId": "d8a8139b-4c5f-4de6-d83e-c5a2acca8917"
      },
      "execution_count": 12,
      "outputs": [
        {
          "output_type": "execute_result",
          "data": {
            "text/plain": [
              "Index(['id', 'Age', 'Driving_License', 'Region_Code', 'Previously_Insured',\n",
              "       'Annual_Premium', 'Policy_Sales_Channel', 'Vintage', 'Response'],\n",
              "      dtype='object')"
            ]
          },
          "metadata": {},
          "execution_count": 12
        }
      ]
    },
    {
      "cell_type": "markdown",
      "source": [
        "id does not provide any relevant insight on the data as it is just unique index."
      ],
      "metadata": {
        "id": "tqXZIYSPTrwQ"
      }
    },
    {
      "cell_type": "markdown",
      "source": [
        "#### **Age**"
      ],
      "metadata": {
        "id": "SgGXW3aBT2Xx"
      }
    },
    {
      "cell_type": "code",
      "source": [
        "# distribution of age variable\n",
        "sns.distplot(data['Age'])"
      ],
      "metadata": {
        "id": "SGC5U5vhUf0V",
        "colab": {
          "base_uri": "https://localhost:8080/",
          "height": 302
        },
        "outputId": "87044238-6dd1-42df-adfd-30d04b75f45a"
      },
      "execution_count": 13,
      "outputs": [
        {
          "output_type": "execute_result",
          "data": {
            "text/plain": [
              "<matplotlib.axes._subplots.AxesSubplot at 0x7fa914fb3c10>"
            ]
          },
          "metadata": {},
          "execution_count": 13
        },
        {
          "output_type": "display_data",
          "data": {
            "text/plain": [
              "<Figure size 432x288 with 1 Axes>"
            ],
            "image/png": "[encoded data removed]"
          },
          "metadata": {}
        }
      ]
    },
    {
      "cell_type": "markdown",
      "source": [
        "The distribution is positively skewed with a peak around 25 years and a second peak around 45. More of the customers in the dataset are towards their thirties or less."
      ],
      "metadata": {
        "id": "72_y0FPfVjQO"
      }
    },
    {
      "cell_type": "code",
      "source": [
        "sns.boxplot(data['Age'])"
      ],
      "metadata": {
        "id": "6Pb-rDgIX657",
        "colab": {
          "base_uri": "https://localhost:8080/",
          "height": 302
        },
        "outputId": "53fab8c7-36c0-47c9-cde6-e780bf56f13e"
      },
      "execution_count": 14,
      "outputs": [
        {
          "output_type": "execute_result",
          "data": {
            "text/plain": [
              "<matplotlib.axes._subplots.AxesSubplot at 0x7fa910249790>"
            ]
          },
          "metadata": {},
          "execution_count": 14
        },
        {
          "output_type": "display_data",
          "data": {
            "text/plain": [
              "<Figure size 432x288 with 1 Axes>"
            ],
            "image/png": "[encoded data removed]"
          },
          "metadata": {}
        }
      ]
    },
    {
      "cell_type": "markdown",
      "source": [
        "The box plot confirms the skew and also shows the absence of outliers."
      ],
      "metadata": {
        "id": "XaPF6SIiX8wR"
      }
    },
    {
      "cell_type": "code",
      "source": [
        "# Interested and uninterested customers count across age\n",
        "# plt.figure(figsize=(18,8))\n",
        "# sns.countplot(x = 'Age', hue = 'Response', data = data)\n",
        "sns.displot(x = 'Age', hue = 'Response', data = data, kind = 'kde')"
      ],
      "metadata": {
        "id": "0KY13N6rUwRy",
        "colab": {
          "base_uri": "https://localhost:8080/",
          "height": 382
        },
        "outputId": "9e614596-0c6d-420d-8889-dea0dd823772"
      },
      "execution_count": 15,
      "outputs": [
        {
          "output_type": "execute_result",
          "data": {
            "text/plain": [
              "<seaborn.axisgrid.FacetGrid at 0x7fa914a700d0>"
            ]
          },
          "metadata": {},
          "execution_count": 15
        },
        {
          "output_type": "display_data",
          "data": {
            "text/plain": [
              "<Figure size 426.55x360 with 1 Axes>"
            ],
            "image/png": "[encoded data removed]"
          },
          "metadata": {}
        }
      ]
    },
    {
      "cell_type": "markdown",
      "source": [
        "Here we look at a detailed plot of response count across age. Eventhough more of the customers are young, the number of interested customers among the youngsters in relation to the uninterested customers are way less in comparison to the older (or middle-aged) customers. There could be multiple possible reasons, such as lack of seriousness about vehicle safety, or simply because their vehicles are inexpensive as opposed to that of the middle-aged section.\n",
        "\n",
        "We can see both interested and uninterested customer numbers reducing as we go to the other end. Very old people are less likely to drive and hence want a vehicle insurance."
      ],
      "metadata": {
        "id": "VJjef8eFWXko"
      }
    },
    {
      "cell_type": "markdown",
      "source": [
        "### **Driving License**"
      ],
      "metadata": {
        "id": "dV8vybfTeW7f"
      }
    },
    {
      "cell_type": "code",
      "source": [
        "# count of customers with and without DL\n",
        "data['Driving_License'].value_counts()"
      ],
      "metadata": {
        "id": "RNpWV7t7eW7u",
        "colab": {
          "base_uri": "https://localhost:8080/"
        },
        "outputId": "03a54ea3-235c-473e-c77f-674cfac2d2c2"
      },
      "execution_count": 16,
      "outputs": [
        {
          "output_type": "execute_result",
          "data": {
            "text/plain": [
              "1    380297\n",
              "0       812\n",
              "Name: Driving_License, dtype: int64"
            ]
          },
          "metadata": {},
          "execution_count": 16
        }
      ]
    },
    {
      "cell_type": "markdown",
      "source": [
        "Most of the customers have driving license."
      ],
      "metadata": {
        "id": "vcIyiDmaeW7u"
      }
    },
    {
      "cell_type": "code",
      "source": [
        "# response count for customers with and without DL\n",
        "sns.countplot(data['Driving_License'],hue=data['Response'])"
      ],
      "metadata": {
        "id": "YzXcOjIleW7u",
        "colab": {
          "base_uri": "https://localhost:8080/",
          "height": 306
        },
        "outputId": "21906306-bf63-428b-83d6-02e5e35be2df"
      },
      "execution_count": 17,
      "outputs": [
        {
          "output_type": "execute_result",
          "data": {
            "text/plain": [
              "<matplotlib.axes._subplots.AxesSubplot at 0x7fa910156d50>"
            ]
          },
          "metadata": {},
          "execution_count": 17
        },
        {
          "output_type": "display_data",
          "data": {
            "text/plain": [
              "<Figure size 432x288 with 1 Axes>"
            ],
            "image/png": "[encoded data removed]"
          },
          "metadata": {}
        }
      ]
    },
    {
      "cell_type": "markdown",
      "source": [
        "As we know, the number of customers without DL is very low (hence not visible in the plot). Out of the customers with DL, most of them are uninterested (we already know that the total number of interested customers is very less)."
      ],
      "metadata": {
        "id": "5bM2PQqCeW7u"
      }
    },
    {
      "cell_type": "code",
      "source": [
        "# count of interested customers with and without DL\n",
        "data.groupby('Driving_License')['Response'].sum()"
      ],
      "metadata": {
        "id": "4RpBnhyZeW7u",
        "colab": {
          "base_uri": "https://localhost:8080/"
        },
        "outputId": "5fef1d9e-ee86-41d4-8c2e-2bb929ebd1c3"
      },
      "execution_count": 18,
      "outputs": [
        {
          "output_type": "execute_result",
          "data": {
            "text/plain": [
              "Driving_License\n",
              "0       41\n",
              "1    46669\n",
              "Name: Response, dtype: int64"
            ]
          },
          "metadata": {},
          "execution_count": 18
        }
      ]
    },
    {
      "cell_type": "markdown",
      "source": [
        "Only 41 of the 812 customers without DL are interested in vehicle insurance."
      ],
      "metadata": {
        "id": "rckBnp2AeW7u"
      }
    },
    {
      "cell_type": "markdown",
      "source": [
        "We can also explore the age-wise distribution of people with DL in order to compare it with our earlier plot of age-wise distribution of response."
      ],
      "metadata": {
        "id": "hZ0eykudeW7u"
      }
    },
    {
      "cell_type": "code",
      "source": [
        "# number of customers with DL across age (sorted)\n",
        "data.groupby('Age')['Driving_License'].sum().sort_values(ascending = False)"
      ],
      "metadata": {
        "id": "3cIyeHE7eW7u",
        "colab": {
          "base_uri": "https://localhost:8080/"
        },
        "outputId": "b4fc1978-97cd-4085-c166-3e91e8139b55"
      },
      "execution_count": 19,
      "outputs": [
        {
          "output_type": "execute_result",
          "data": {
            "text/plain": [
              "Age\n",
              "24    25959\n",
              "23    24256\n",
              "22    20964\n",
              "25    20636\n",
              "21    16456\n",
              "      ...  \n",
              "81       50\n",
              "82       26\n",
              "83       21\n",
              "84       10\n",
              "85       10\n",
              "Name: Driving_License, Length: 66, dtype: int64"
            ]
          },
          "metadata": {},
          "execution_count": 19
        }
      ]
    },
    {
      "cell_type": "code",
      "source": [
        "# distribution of customers with DL across age\n",
        "plt.figure(figsize=(12,5))\n",
        "data.groupby('Age')['Driving_License'].sum().plot(kind = 'bar')"
      ],
      "metadata": {
        "id": "IqJdN0QKeW7u",
        "colab": {
          "base_uri": "https://localhost:8080/",
          "height": 360
        },
        "outputId": "a661122d-0c0f-4870-f616-8a72981fc48f"
      },
      "execution_count": 20,
      "outputs": [
        {
          "output_type": "execute_result",
          "data": {
            "text/plain": [
              "<matplotlib.axes._subplots.AxesSubplot at 0x7fa9100cc850>"
            ]
          },
          "metadata": {},
          "execution_count": 20
        },
        {
          "output_type": "display_data",
          "data": {
            "text/plain": [
              "<Figure size 864x360 with 1 Axes>"
            ],
            "image/png": "[encoded data removed]"
          },
          "metadata": {}
        }
      ]
    },
    {
      "cell_type": "markdown",
      "source": [
        "This mirrors the overall age distribution of customers in the data. The low count of customers with DL among older people might explain the lesser number of customers interested in vehicle insurance in that section."
      ],
      "metadata": {
        "id": "m2XQrgcBeW7u"
      }
    },
    {
      "cell_type": "markdown",
      "source": [
        "### **Region Code**"
      ],
      "metadata": {
        "id": "QqpGhLvmb98T"
      }
    },
    {
      "cell_type": "markdown",
      "source": [
        "Region code is a unique code (number) referring to the customer's region. From the descriptive statistics we can see it ranges from 0 to 52. "
      ],
      "metadata": {
        "id": "LdKaU6vlcewN"
      }
    },
    {
      "cell_type": "code",
      "source": [
        "# descriptive statistics of region code column\n",
        "data['Region_Code'].describe()"
      ],
      "metadata": {
        "id": "kAkCwzVPcytz",
        "colab": {
          "base_uri": "https://localhost:8080/"
        },
        "outputId": "f14dd197-abda-4835-91b5-3371f3b78043"
      },
      "execution_count": 21,
      "outputs": [
        {
          "output_type": "execute_result",
          "data": {
            "text/plain": [
              "count    381109.000000\n",
              "mean         26.388807\n",
              "std          13.229888\n",
              "min           0.000000\n",
              "25%          15.000000\n",
              "50%          28.000000\n",
              "75%          35.000000\n",
              "max          52.000000\n",
              "Name: Region_Code, dtype: float64"
            ]
          },
          "metadata": {},
          "execution_count": 21
        }
      ]
    },
    {
      "cell_type": "code",
      "source": [
        "# distribution of Region code\n",
        "sns.distplot(data['Region_Code'])"
      ],
      "metadata": {
        "id": "fUYktyntdAN6",
        "colab": {
          "base_uri": "https://localhost:8080/",
          "height": 302
        },
        "outputId": "e6b6833e-c5d9-4c68-9286-c5b536e99111"
      },
      "execution_count": 22,
      "outputs": [
        {
          "output_type": "execute_result",
          "data": {
            "text/plain": [
              "<matplotlib.axes._subplots.AxesSubplot at 0x7fa90fe23ed0>"
            ]
          },
          "metadata": {},
          "execution_count": 22
        },
        {
          "output_type": "display_data",
          "data": {
            "text/plain": [
              "<Figure size 432x288 with 1 Axes>"
            ],
            "image/png": "[encoded data removed]"
          },
          "metadata": {}
        }
      ]
    },
    {
      "cell_type": "markdown",
      "source": [
        "The distribution is far from normal with multiple peaks throughout."
      ],
      "metadata": {
        "id": "BNwzWRXEdT34"
      }
    },
    {
      "cell_type": "markdown",
      "source": [
        "## **Previously_Insured**"
      ],
      "metadata": {
        "id": "cnvuhWGkhDTX"
      }
    },
    {
      "cell_type": "markdown",
      "source": [
        "This variable refers to whether the customer already has insured their vehicle previously (1) or not (0)."
      ],
      "metadata": {
        "id": "iYeJasJAlI-r"
      }
    },
    {
      "cell_type": "code",
      "source": [
        "fig = plt.figure(figsize = (13,5))\n",
        "plt.subplot(1,2,1)\n",
        "sns.countplot(data['Previously_Insured'])\n",
        "plt.title('Count of Previously Insured and Not Insured')\n",
        "plt.subplot(1,2,2)\n",
        "sns.countplot(x = 'Previously_Insured', hue = 'Response', data = data)\n",
        "plt.title('Distribution of Response across Previously Insured and Not Insured')\n",
        "plt.show()"
      ],
      "metadata": {
        "id": "1M13noYlhGWn",
        "colab": {
          "base_uri": "https://localhost:8080/",
          "height": 355
        },
        "outputId": "3cdd70d6-4f32-412f-b213-4b9f18afef27"
      },
      "execution_count": 23,
      "outputs": [
        {
          "output_type": "display_data",
          "data": {
            "text/plain": [
              "<Figure size 936x360 with 2 Axes>"
            ],
            "image/png": "[encoded data removed]"
          },
          "metadata": {}
        }
      ]
    },
    {
      "cell_type": "markdown",
      "source": [
        "Out of the customers data, the number of customers who did not insure their vehicle previously is higher than those who did.\n",
        "\n",
        "The section of customers who are not previously insured has a much higher share of interested customers (thus are more likely to opt it).\n",
        "\n",
        "We can observe that out of the customers who have already insured, almost no one is interested in the vehicle insurance. We can see the exact number below. Only 158 people out of the previously insured are interested."
      ],
      "metadata": {
        "id": "TUh5G6Unk5tp"
      }
    },
    {
      "cell_type": "code",
      "source": [
        "# number of interested customers out of previously insured and not insured\n",
        "data.groupby('Previously_Insured')['Response'].sum()"
      ],
      "metadata": {
        "id": "dCdzMZuml5ig",
        "colab": {
          "base_uri": "https://localhost:8080/"
        },
        "outputId": "ad914a93-e4cc-4259-e65c-9f10f029bd89"
      },
      "execution_count": 24,
      "outputs": [
        {
          "output_type": "execute_result",
          "data": {
            "text/plain": [
              "Previously_Insured\n",
              "0    46552\n",
              "1      158\n",
              "Name: Response, dtype: int64"
            ]
          },
          "metadata": {},
          "execution_count": 24
        }
      ]
    },
    {
      "cell_type": "markdown",
      "source": [
        "### **Annual Premium**"
      ],
      "metadata": {
        "id": "xduVpYNQnl40"
      }
    },
    {
      "cell_type": "markdown",
      "source": [
        "It refers to the amount the customer has to be annually."
      ],
      "metadata": {
        "id": "pMXuwwLmpbVO"
      }
    },
    {
      "cell_type": "code",
      "source": [
        "# descriptive statistics of annual premium\n",
        "data['Annual_Premium'].describe()"
      ],
      "metadata": {
        "id": "-XTCGIe_nlf2",
        "colab": {
          "base_uri": "https://localhost:8080/"
        },
        "outputId": "463e4989-5256-40b9-dbde-41f2d6de0473"
      },
      "execution_count": 25,
      "outputs": [
        {
          "output_type": "execute_result",
          "data": {
            "text/plain": [
              "count    381109.000000\n",
              "mean      30564.389581\n",
              "std       17213.155057\n",
              "min        2630.000000\n",
              "25%       24405.000000\n",
              "50%       31669.000000\n",
              "75%       39400.000000\n",
              "max      540165.000000\n",
              "Name: Annual_Premium, dtype: float64"
            ]
          },
          "metadata": {},
          "execution_count": 25
        }
      ]
    },
    {
      "cell_type": "markdown",
      "source": [
        "The annual premium ranges from around 2600 to 5,40,000."
      ],
      "metadata": {
        "id": "HAe2rPrXoD4x"
      }
    },
    {
      "cell_type": "code",
      "source": [
        "# distribution of annual premium\n",
        "plt.figure(figsize = (9,7))\n",
        "plt.subplot(2,1,1)\n",
        "sns.distplot(data['Annual_Premium'])\n",
        "plt.title('Annual Premium Distribution')\n",
        "plt.figure(figsize = (9,7))\n",
        "plt.subplot(2,1,2)\n",
        "sns.boxplot(data['Annual_Premium'])\n",
        "plt.title('Annual Premium Boxplot')\n",
        "plt.show()"
      ],
      "metadata": {
        "id": "hVoz1Pbnn0-Q",
        "colab": {
          "base_uri": "https://localhost:8080/",
          "height": 495
        },
        "outputId": "29a69854-195c-4f29-966e-3df4d09d05b5"
      },
      "execution_count": 26,
      "outputs": [
        {
          "output_type": "display_data",
          "data": {
            "text/plain": [
              "<Figure size 648x504 with 1 Axes>"
            ],
            "image/png": "[encoded data removed]"
          },
          "metadata": {}
        },
        {
          "output_type": "display_data",
          "data": {
            "text/plain": [
              "<Figure size 648x504 with 1 Axes>"
            ],
            "image/png": "[encoded data removed]"
          },
          "metadata": {}
        }
      ]
    },
    {
      "cell_type": "markdown",
      "source": [
        "The distribution is right skewed but has another peak close to zero. We can observe a lot of outliers (from the boxplot)."
      ],
      "metadata": {
        "id": "Xjl-xGNvoUrv"
      }
    },
    {
      "cell_type": "code",
      "source": [
        "data['Annual_Premium'].value_counts().sort_values(ascending = False)"
      ],
      "metadata": {
        "id": "yOgQ5gl4ocbL",
        "colab": {
          "base_uri": "https://localhost:8080/"
        },
        "outputId": "e660d8cb-5891-4821-ea14-e11285dbf699"
      },
      "execution_count": 27,
      "outputs": [
        {
          "output_type": "execute_result",
          "data": {
            "text/plain": [
              "2630.0      64877\n",
              "69856.0       140\n",
              "39008.0        41\n",
              "38287.0        38\n",
              "45179.0        38\n",
              "            ...  \n",
              "16882.0         1\n",
              "102370.0        1\n",
              "15647.0         1\n",
              "51800.0         1\n",
              "69845.0         1\n",
              "Name: Annual_Premium, Length: 48838, dtype: int64"
            ]
          },
          "metadata": {},
          "execution_count": 27
        }
      ]
    },
    {
      "cell_type": "markdown",
      "source": [
        "There are a lot of customers paying annual premium of 2630 leading to the peak near zero."
      ],
      "metadata": {
        "id": "pJtQw43Lpwl4"
      }
    },
    {
      "cell_type": "code",
      "source": [
        "# density estimation using kde\n",
        "# distribution of interested and uninterested response across annual premium\n",
        "sns.displot(x = 'Annual_Premium', hue = 'Response', data = data, kind = 'kde')"
      ],
      "metadata": {
        "id": "gWECdFjNtI1n",
        "colab": {
          "base_uri": "https://localhost:8080/",
          "height": 382
        },
        "outputId": "2b20b332-90b5-4166-dd70-17eb7acabf83"
      },
      "execution_count": 28,
      "outputs": [
        {
          "output_type": "execute_result",
          "data": {
            "text/plain": [
              "<seaborn.axisgrid.FacetGrid at 0x7fa90fc76110>"
            ]
          },
          "metadata": {},
          "execution_count": 28
        },
        {
          "output_type": "display_data",
          "data": {
            "text/plain": [
              "<Figure size 426.55x360 with 1 Axes>"
            ],
            "image/png": "[encoded data removed]"
          },
          "metadata": {}
        }
      ]
    },
    {
      "cell_type": "markdown",
      "source": [
        "Both responses have similar distribution but with the Uninterested customers distribution having much higher magnitude."
      ],
      "metadata": {
        "id": "28C0G_7HuVsf"
      }
    },
    {
      "cell_type": "markdown",
      "source": [
        "### **Policy Sales Channel**"
      ],
      "metadata": {
        "id": "9a7NAtv4uwNq"
      }
    },
    {
      "cell_type": "markdown",
      "source": [
        "It refers to the anonymized code for the channel of outreaching to the customer ie. Different Agents, Over Mail, Over Phone, In Person, etc."
      ],
      "metadata": {
        "id": "LmdudZhru19Q"
      }
    },
    {
      "cell_type": "code",
      "source": [
        "# descriptive statistics\n",
        "data['Policy_Sales_Channel'].describe()"
      ],
      "metadata": {
        "id": "NzyW6pa_u8E5",
        "colab": {
          "base_uri": "https://localhost:8080/"
        },
        "outputId": "29c2c246-7198-4f43-ddba-1709783698b2"
      },
      "execution_count": 29,
      "outputs": [
        {
          "output_type": "execute_result",
          "data": {
            "text/plain": [
              "count    381109.000000\n",
              "mean        112.034295\n",
              "std          54.203995\n",
              "min           1.000000\n",
              "25%          29.000000\n",
              "50%         133.000000\n",
              "75%         152.000000\n",
              "max         163.000000\n",
              "Name: Policy_Sales_Channel, dtype: float64"
            ]
          },
          "metadata": {},
          "execution_count": 29
        }
      ]
    },
    {
      "cell_type": "markdown",
      "source": [
        "The value ranges from 1 to 163."
      ],
      "metadata": {
        "id": "k-ky9pK_vHNh"
      }
    },
    {
      "cell_type": "code",
      "source": [
        "sns.distplot(data['Policy_Sales_Channel'])"
      ],
      "metadata": {
        "id": "oZwF-7DZvGnE",
        "colab": {
          "base_uri": "https://localhost:8080/",
          "height": 302
        },
        "outputId": "c7870ed5-2570-4dd6-a2b2-ce98506821b8"
      },
      "execution_count": 30,
      "outputs": [
        {
          "output_type": "execute_result",
          "data": {
            "text/plain": [
              "<matplotlib.axes._subplots.AxesSubplot at 0x7fa90fadf9d0>"
            ]
          },
          "metadata": {},
          "execution_count": 30
        },
        {
          "output_type": "display_data",
          "data": {
            "text/plain": [
              "<Figure size 432x288 with 1 Axes>"
            ],
            "image/png": "[encoded data removed]"
          },
          "metadata": {}
        }
      ]
    },
    {
      "cell_type": "markdown",
      "source": [
        "There are multiple peaks in the distribution."
      ],
      "metadata": {
        "id": "xlblvLJdwnYR"
      }
    },
    {
      "cell_type": "code",
      "source": [
        "sns.boxplot(data['Policy_Sales_Channel'])"
      ],
      "metadata": {
        "id": "6uIJIvVZwsW8",
        "colab": {
          "base_uri": "https://localhost:8080/",
          "height": 302
        },
        "outputId": "7e1d1b93-9781-4c89-cd94-0f8d69f07bd0"
      },
      "execution_count": 31,
      "outputs": [
        {
          "output_type": "execute_result",
          "data": {
            "text/plain": [
              "<matplotlib.axes._subplots.AxesSubplot at 0x7fa90f9d3910>"
            ]
          },
          "metadata": {},
          "execution_count": 31
        },
        {
          "output_type": "display_data",
          "data": {
            "text/plain": [
              "<Figure size 432x288 with 1 Axes>"
            ],
            "image/png": "[encoded data removed]"
          },
          "metadata": {}
        }
      ]
    },
    {
      "cell_type": "markdown",
      "source": [
        "There are no oultiers in Policy Sales Channel"
      ],
      "metadata": {
        "id": "_sYcem_byMSl"
      }
    },
    {
      "cell_type": "code",
      "source": [
        "# density estimation using kde\n",
        "# distribution of interested and uninterested response across Policy Sales Channel\n",
        "sns.displot(x = 'Policy_Sales_Channel', hue = 'Response', data = data, kind = 'kde')"
      ],
      "metadata": {
        "id": "XQmMDW1jyYWo",
        "colab": {
          "base_uri": "https://localhost:8080/",
          "height": 382
        },
        "outputId": "04448d8c-7362-4b39-e6c2-a93b9629ebbf"
      },
      "execution_count": 32,
      "outputs": [
        {
          "output_type": "execute_result",
          "data": {
            "text/plain": [
              "<seaborn.axisgrid.FacetGrid at 0x7fa90f9b2f10>"
            ]
          },
          "metadata": {},
          "execution_count": 32
        },
        {
          "output_type": "display_data",
          "data": {
            "text/plain": [
              "<Figure size 426.55x360 with 1 Axes>"
            ],
            "image/png": "[encoded data removed]"
          },
          "metadata": {}
        }
      ]
    },
    {
      "cell_type": "markdown",
      "source": [
        "Both responses have similar distribution pattern with the Uninterested customers distribution having much higher magnitude."
      ],
      "metadata": {
        "id": "sDyv4NGwyh3S"
      }
    },
    {
      "cell_type": "markdown",
      "source": [
        "### **Vintage** "
      ],
      "metadata": {
        "id": "fVLNwxT9zI5C"
      }
    },
    {
      "cell_type": "markdown",
      "source": [
        "It refers to the number of days the customer has been associated with the company."
      ],
      "metadata": {
        "id": "TeNVrwQyzHO9"
      }
    },
    {
      "cell_type": "code",
      "source": [
        "# descriptive statistics\n",
        "data['Vintage'].describe()"
      ],
      "metadata": {
        "id": "dXOsWug-0gcN",
        "colab": {
          "base_uri": "https://localhost:8080/"
        },
        "outputId": "f5b337d9-7c45-42be-b800-ffcef71dd234"
      },
      "execution_count": 33,
      "outputs": [
        {
          "output_type": "execute_result",
          "data": {
            "text/plain": [
              "count    381109.000000\n",
              "mean        154.347397\n",
              "std          83.671304\n",
              "min          10.000000\n",
              "25%          82.000000\n",
              "50%         154.000000\n",
              "75%         227.000000\n",
              "max         299.000000\n",
              "Name: Vintage, dtype: float64"
            ]
          },
          "metadata": {},
          "execution_count": 33
        }
      ]
    },
    {
      "cell_type": "markdown",
      "source": [
        "It ranges from 10 days to 299."
      ],
      "metadata": {
        "id": "pqSUcKGU0wIe"
      }
    },
    {
      "cell_type": "code",
      "source": [
        "# distribution of Vintage\n",
        "plt.figure(figsize = (9,7))\n",
        "plt.subplot(2,1,1)\n",
        "sns.distplot(data['Vintage'])\n",
        "plt.title('Vintage Distribution')\n",
        "plt.figure(figsize = (9,7))\n",
        "plt.subplot(2,1,2)\n",
        "sns.boxplot(data['Vintage'])\n",
        "plt.title('Vintage Boxplot')\n",
        "plt.show()"
      ],
      "metadata": {
        "id": "Zjljk0_70zCI",
        "colab": {
          "base_uri": "https://localhost:8080/",
          "height": 495
        },
        "outputId": "e831c32e-52d4-4d96-ea5f-171a32a70568"
      },
      "execution_count": 34,
      "outputs": [
        {
          "output_type": "display_data",
          "data": {
            "text/plain": [
              "<Figure size 648x504 with 1 Axes>"
            ],
            "image/png": "[encoded data removed]"
          },
          "metadata": {}
        },
        {
          "output_type": "display_data",
          "data": {
            "text/plain": [
              "<Figure size 648x504 with 1 Axes>"
            ],
            "image/png": "[encoded data removed]"
          },
          "metadata": {}
        }
      ]
    },
    {
      "cell_type": "markdown",
      "source": [
        "The distribution of customers across vintage is almost uniform. We observe no outliers as well."
      ],
      "metadata": {
        "id": "t0aLby5P1C5l"
      }
    },
    {
      "cell_type": "markdown",
      "source": [
        "### **Gender**"
      ],
      "metadata": {
        "id": "6_73GS6R2EiL"
      }
    },
    {
      "cell_type": "markdown",
      "source": [
        "It is a categorical variable referring to the gender of the customer."
      ],
      "metadata": {
        "id": "G3lPYPQM7wgw"
      }
    },
    {
      "cell_type": "code",
      "source": [
        "plt.figure(figsize = (13,5))\n",
        "plt.subplot(1,2,1)\n",
        "sns.countplot(data['Gender'],palette='husl')\n",
        "plt.title(\"Count of male and female\")\n",
        "plt.subplot(1,2,2)\n",
        "sns.countplot(data['Gender'], hue = data['Response'],palette=\"husl\")\n",
        "plt.title(\"Response across gender\")\n",
        "plt.show()"
      ],
      "metadata": {
        "id": "Xyw9SpWo2GD7",
        "colab": {
          "base_uri": "https://localhost:8080/",
          "height": 355
        },
        "outputId": "2fefc342-54fc-4757-9dd2-a5d0d198b16c"
      },
      "execution_count": 35,
      "outputs": [
        {
          "output_type": "display_data",
          "data": {
            "text/plain": [
              "<Figure size 936x360 with 2 Axes>"
            ],
            "image/png": "[encoded data removed]"
          },
          "metadata": {}
        }
      ]
    },
    {
      "cell_type": "markdown",
      "source": [
        "The gender varible ratio in the dataset is almost equal. The number of males (200000) is slightly more than females (175000). The number of males who are interested is greater than 25000 and the number of females who are interested is below 25000. It doesn't necessarily imply that males have a higher tendency to buy insurance and could most likely be a result of total number of men being higher than total number of women in the data (original data of policy holders)."
      ],
      "metadata": {
        "id": "YS5Lknaj2XOA"
      }
    },
    {
      "cell_type": "code",
      "source": [
        "# number of males and females with driving license\n",
        "data.groupby('Gender')['Driving_License'].sum()"
      ],
      "metadata": {
        "id": "FjGvieWK2_n6",
        "colab": {
          "base_uri": "https://localhost:8080/"
        },
        "outputId": "7bc621a3-7f68-4de8-a885-bb5e78aba5ad"
      },
      "execution_count": 36,
      "outputs": [
        {
          "output_type": "execute_result",
          "data": {
            "text/plain": [
              "Gender\n",
              "Female    174808\n",
              "Male      205489\n",
              "Name: Driving_License, dtype: int64"
            ]
          },
          "metadata": {},
          "execution_count": 36
        }
      ]
    },
    {
      "cell_type": "markdown",
      "source": [
        "The number of males with DL is greater. This could be one reason for the lesser number of women interested in vehicle insurance."
      ],
      "metadata": {
        "id": "WMZ7CoTt3H7T"
      }
    },
    {
      "cell_type": "code",
      "source": [
        "# distribution of customers across age for both men and women \n",
        "sns.displot(x = 'Age', hue = 'Gender', data = data, kind = 'kde')"
      ],
      "metadata": {
        "id": "ShOeKJ373dy-",
        "colab": {
          "base_uri": "https://localhost:8080/",
          "height": 382
        },
        "outputId": "cec15d96-7a7d-4595-db6b-7b3a87bc05d9"
      },
      "execution_count": 37,
      "outputs": [
        {
          "output_type": "execute_result",
          "data": {
            "text/plain": [
              "<seaborn.axisgrid.FacetGrid at 0x7fa90f88b350>"
            ]
          },
          "metadata": {},
          "execution_count": 37
        },
        {
          "output_type": "display_data",
          "data": {
            "text/plain": [
              "<Figure size 439.725x360 with 1 Axes>"
            ],
            "image/png": "[encoded data removed]"
          },
          "metadata": {}
        }
      ]
    },
    {
      "cell_type": "markdown",
      "source": [
        "We can observe that in case of younger people (20-30 years) there are more women than men in the data of policy holders while in case of older people it is lesser."
      ],
      "metadata": {
        "id": "0J4JKSYh3-rQ"
      }
    },
    {
      "cell_type": "code",
      "source": [
        "sns.countplot(data['Gender'], hue = data['Previously_Insured'],palette=\"husl\")"
      ],
      "metadata": {
        "id": "-jlzBSB-4vkc",
        "colab": {
          "base_uri": "https://localhost:8080/",
          "height": 302
        },
        "outputId": "4c7ffb2f-e5b1-4e34-8461-1361420da75f"
      },
      "execution_count": 38,
      "outputs": [
        {
          "output_type": "execute_result",
          "data": {
            "text/plain": [
              "<matplotlib.axes._subplots.AxesSubplot at 0x7fa90f7d8310>"
            ]
          },
          "metadata": {},
          "execution_count": 38
        },
        {
          "output_type": "display_data",
          "data": {
            "text/plain": [
              "<Figure size 432x288 with 1 Axes>"
            ],
            "image/png": "[encoded data removed]"
          },
          "metadata": {}
        }
      ]
    },
    {
      "cell_type": "markdown",
      "source": [
        "In case of males, there are much more customers who did not previously have vehicle insurance while in case of females, the number is balanced."
      ],
      "metadata": {
        "id": "AFSivb5p5ePx"
      }
    },
    {
      "cell_type": "markdown",
      "source": [
        "### **Age of Vehicle**"
      ],
      "metadata": {
        "id": "co8tPsLj6rAC"
      }
    },
    {
      "cell_type": "markdown",
      "source": [
        "It is a categorical variable with three categories referring to the age of the vehicle."
      ],
      "metadata": {
        "id": "l0x8fGnX7kLc"
      }
    },
    {
      "cell_type": "code",
      "source": [
        "data['Vehicle_Age'].value_counts()"
      ],
      "metadata": {
        "id": "nQT0hLKA6qJh",
        "colab": {
          "base_uri": "https://localhost:8080/"
        },
        "outputId": "da79a017-7eee-4010-ac03-298f51dd20ec"
      },
      "execution_count": 39,
      "outputs": [
        {
          "output_type": "execute_result",
          "data": {
            "text/plain": [
              "1-2 Year     200316\n",
              "< 1 Year     164786\n",
              "> 2 Years     16007\n",
              "Name: Vehicle_Age, dtype: int64"
            ]
          },
          "metadata": {},
          "execution_count": 39
        }
      ]
    },
    {
      "cell_type": "code",
      "source": [
        "plt.figure(figsize = (13,5))\n",
        "plt.subplot(1,2,1)\n",
        "sns.countplot(data['Vehicle_Age'],palette='husl')\n",
        "plt.title(\"Age of Vehicle Count\")\n",
        "plt.subplot(1,2,2)\n",
        "sns.countplot(data['Vehicle_Age'], hue = data['Response'],palette=\"husl\")\n",
        "plt.title(\"Response across Age of Vehicle\")\n",
        "plt.show()"
      ],
      "metadata": {
        "id": "6-sd5A3776qz",
        "colab": {
          "base_uri": "https://localhost:8080/",
          "height": 355
        },
        "outputId": "35e1a00c-0dc0-4ae9-978b-79f7d46f5784"
      },
      "execution_count": 40,
      "outputs": [
        {
          "output_type": "display_data",
          "data": {
            "text/plain": [
              "<Figure size 936x360 with 2 Axes>"
            ],
            "image/png": "[encoded data removed]"
          },
          "metadata": {}
        }
      ]
    },
    {
      "cell_type": "markdown",
      "source": [
        "The number of customers with their vehicle age between 1 and 2 years is the highest of the three. We can also observe that the number of interested customers is also highest for this category (1-2 years). To find the percentage of interested customers across the three categories, we can use cross tabulation."
      ],
      "metadata": {
        "id": "znDGpiZk8Lx4"
      }
    },
    {
      "cell_type": "code",
      "source": [
        "# crosstabulation between vehicle age and response\n",
        "pd.crosstab(data['Vehicle_Age'],data['Response']).rename(columns = {0:'Not Interested',1:'Interested'})"
      ],
      "metadata": {
        "id": "u01WCgvi9A6B",
        "colab": {
          "base_uri": "https://localhost:8080/",
          "height": 175
        },
        "outputId": "4a365a2e-1068-4279-b684-f1cf5eeb900d"
      },
      "execution_count": 41,
      "outputs": [
        {
          "output_type": "execute_result",
          "data": {
            "text/plain": [
              "Response     Not Interested  Interested\n",
              "Vehicle_Age                            \n",
              "1-2 Year             165510       34806\n",
              "< 1 Year             157584        7202\n",
              "> 2 Years             11305        4702"
            ],
            "text/html": [
              "\n",
              "  <div id=\"df-3a96f7ce-ec05-44dc-9f0b-019a64e3dfee\">\n",
              "    <div class=\"colab-df-container\">\n",
              "      <div>\n",
              "<style scoped>\n",
              "    .dataframe tbody tr th:only-of-type {\n",
              "        vertical-align: middle;\n",
              "    }\n",
              "\n",
              "    .dataframe tbody tr th {\n",
              "        vertical-align: top;\n",
              "    }\n",
              "\n",
              "    .dataframe thead th {\n",
              "        text-align: right;\n",
              "    }\n",
              "</style>\n",
              "<table border=\"1\" class=\"dataframe\">\n",
              "  <thead>\n",
              "    <tr style=\"text-align: right;\">\n",
              "      <th>Response</th>\n",
              "      <th>Not Interested</th>\n",
              "      <th>Interested</th>\n",
              "    </tr>\n",
              "    <tr>\n",
              "      <th>Vehicle_Age</th>\n",
              "      <th></th>\n",
              "      <th></th>\n",
              "    </tr>\n",
              "  </thead>\n",
              "  <tbody>\n",
              "    <tr>\n",
              "      <th>1-2 Year</th>\n",
              "      <td>165510</td>\n",
              "      <td>34806</td>\n",
              "    </tr>\n",
              "    <tr>\n",
              "      <th>&lt; 1 Year</th>\n",
              "      <td>157584</td>\n",
              "      <td>7202</td>\n",
              "    </tr>\n",
              "    <tr>\n",
              "      <th>&gt; 2 Years</th>\n",
              "      <td>11305</td>\n",
              "      <td>4702</td>\n",
              "    </tr>\n",
              "  </tbody>\n",
              "</table>\n",
              "</div>\n",
              "      <button class=\"colab-df-convert\" onclick=\"convertToInteractive('df-3a96f7ce-ec05-44dc-9f0b-019a64e3dfee')\"\n",
              "              title=\"Convert this dataframe to an interactive table.\"\n",
              "              style=\"display:none;\">\n",
              "        \n",
              "  <svg xmlns=\"http://www.w3.org/2000/svg\" height=\"24px\"viewBox=\"0 0 24 24\"\n",
              "       width=\"24px\">\n",
              "    <path d=\"M0 0h24v24H0V0z\" fill=\"none\"/>\n",
              "    <path d=\"M18.56 5.44l.94 2.06.94-2.06 2.06-.94-2.06-.94-.94-2.06-.94 2.06-2.06.94zm-11 1L8.5 8.5l.94-2.06 2.06-.94-2.06-.94L8.5 2.5l-.94 2.06-2.06.94zm10 10l.94 2.06.94-2.06 2.06-.94-2.06-.94-.94-2.06-.94 2.06-2.06.94z\"/><path d=\"M17.41 7.96l-1.37-1.37c-.4-.4-.92-.59-1.43-.59-.52 0-1.04.2-1.43.59L10.3 9.45l-7.72 7.72c-.78.78-.78 2.05 0 2.83L4 21.41c.39.39.9.59 1.41.59.51 0 1.02-.2 1.41-.59l7.78-7.78 2.81-2.81c.8-.78.8-2.07 0-2.86zM5.41 20L4 18.59l7.72-7.72 1.47 1.35L5.41 20z\"/>\n",
              "  </svg>\n",
              "      </button>\n",
              "      \n",
              "  <style>\n",
              "    .colab-df-container {\n",
              "      display:flex;\n",
              "      flex-wrap:wrap;\n",
              "      gap: 12px;\n",
              "    }\n",
              "\n",
              "    .colab-df-convert {\n",
              "      background-color: #E8F0FE;\n",
              "      border: none;\n",
              "      border-radius: 50%;\n",
              "      cursor: pointer;\n",
              "      display: none;\n",
              "      fill: #1967D2;\n",
              "      height: 32px;\n",
              "      padding: 0 0 0 0;\n",
              "      width: 32px;\n",
              "    }\n",
              "\n",
              "    .colab-df-convert:hover {\n",
              "      background-color: #E2EBFA;\n",
              "      box-shadow: 0px 1px 2px rgba(60, 64, 67, 0.3), 0px 1px 3px 1px rgba(60, 64, 67, 0.15);\n",
              "      fill: #174EA6;\n",
              "    }\n",
              "\n",
              "    [theme=dark] .colab-df-convert {\n",
              "      background-color: #3B4455;\n",
              "      fill: #D2E3FC;\n",
              "    }\n",
              "\n",
              "    [theme=dark] .colab-df-convert:hover {\n",
              "      background-color: #434B5C;\n",
              "      box-shadow: 0px 1px 3px 1px rgba(0, 0, 0, 0.15);\n",
              "      filter: drop-shadow(0px 1px 2px rgba(0, 0, 0, 0.3));\n",
              "      fill: #FFFFFF;\n",
              "    }\n",
              "  </style>\n",
              "\n",
              "      <script>\n",
              "        const buttonEl =\n",
              "          document.querySelector('#df-3a96f7ce-ec05-44dc-9f0b-019a64e3dfee button.colab-df-convert');\n",
              "        buttonEl.style.display =\n",
              "          google.colab.kernel.accessAllowed ? 'block' : 'none';\n",
              "\n",
              "        async function convertToInteractive(key) {\n",
              "          const element = document.querySelector('#df-3a96f7ce-ec05-44dc-9f0b-019a64e3dfee');\n",
              "          const dataTable =\n",
              "            await google.colab.kernel.invokeFunction('convertToInteractive',\n",
              "                                                     [key], {});\n",
              "          if (!dataTable) return;\n",
              "\n",
              "          const docLinkHtml = 'Like what you see? Visit the ' +\n",
              "            '<a target=\"_blank\" href=https://colab.research.google.com/notebooks/data_table.ipynb>data table notebook</a>'\n",
              "            + ' to learn more about interactive tables.';\n",
              "          element.innerHTML = '';\n",
              "          dataTable['output_type'] = 'display_data';\n",
              "          await google.colab.output.renderOutput(dataTable, element);\n",
              "          const docLink = document.createElement('div');\n",
              "          docLink.innerHTML = docLinkHtml;\n",
              "          element.appendChild(docLink);\n",
              "        }\n",
              "      </script>\n",
              "    </div>\n",
              "  </div>\n",
              "  "
            ]
          },
          "metadata": {},
          "execution_count": 41
        }
      ]
    },
    {
      "cell_type": "markdown",
      "source": [
        "In case of vehicle age 1-2 years category, the number of interested customers is 34806 and uninterested customers is 165510 while in case of vehicle age >2 years category, interested customers is only 4702 and uninterested customers is 11305. We can compute the percentage of interested customers for each vehicle age category."
      ],
      "metadata": {
        "id": "-xZK7co_9e4O"
      }
    },
    {
      "cell_type": "code",
      "source": [
        "# crosstabulation dataframe\n",
        "vehicle_age_response_df = pd.crosstab(data['Vehicle_Age'],data['Response'])\n",
        "# total customers in each category\n",
        "vehicle_age_response_df['Total'] = vehicle_age_response_df[0] + vehicle_age_response_df[1]\n",
        "# percentage of interested customers in each category\n",
        "vehicle_age_response_df['Percentage of Interested'] = (vehicle_age_response_df[1]/(vehicle_age_response_df['Total']))*100"
      ],
      "metadata": {
        "id": "8ps6x9P791hW"
      },
      "execution_count": 42,
      "outputs": []
    },
    {
      "cell_type": "code",
      "source": [
        "vehicle_age_response_df"
      ],
      "metadata": {
        "id": "Gt12nk0S97Fj",
        "colab": {
          "base_uri": "https://localhost:8080/",
          "height": 175
        },
        "outputId": "726dc4c0-65a2-4028-910f-70ce17ee9ab7"
      },
      "execution_count": 43,
      "outputs": [
        {
          "output_type": "execute_result",
          "data": {
            "text/plain": [
              "Response          0      1   Total  Percentage of Interested\n",
              "Vehicle_Age                                                 \n",
              "1-2 Year     165510  34806  200316                 17.375547\n",
              "< 1 Year     157584   7202  164786                  4.370517\n",
              "> 2 Years     11305   4702   16007                 29.374649"
            ],
            "text/html": [
              "\n",
              "  <div id=\"df-694260b2-5561-4f01-bd65-2fce7c8960be\">\n",
              "    <div class=\"colab-df-container\">\n",
              "      <div>\n",
              "<style scoped>\n",
              "    .dataframe tbody tr th:only-of-type {\n",
              "        vertical-align: middle;\n",
              "    }\n",
              "\n",
              "    .dataframe tbody tr th {\n",
              "        vertical-align: top;\n",
              "    }\n",
              "\n",
              "    .dataframe thead th {\n",
              "        text-align: right;\n",
              "    }\n",
              "</style>\n",
              "<table border=\"1\" class=\"dataframe\">\n",
              "  <thead>\n",
              "    <tr style=\"text-align: right;\">\n",
              "      <th>Response</th>\n",
              "      <th>0</th>\n",
              "      <th>1</th>\n",
              "      <th>Total</th>\n",
              "      <th>Percentage of Interested</th>\n",
              "    </tr>\n",
              "    <tr>\n",
              "      <th>Vehicle_Age</th>\n",
              "      <th></th>\n",
              "      <th></th>\n",
              "      <th></th>\n",
              "      <th></th>\n",
              "    </tr>\n",
              "  </thead>\n",
              "  <tbody>\n",
              "    <tr>\n",
              "      <th>1-2 Year</th>\n",
              "      <td>165510</td>\n",
              "      <td>34806</td>\n",
              "      <td>200316</td>\n",
              "      <td>17.375547</td>\n",
              "    </tr>\n",
              "    <tr>\n",
              "      <th>&lt; 1 Year</th>\n",
              "      <td>157584</td>\n",
              "      <td>7202</td>\n",
              "      <td>164786</td>\n",
              "      <td>4.370517</td>\n",
              "    </tr>\n",
              "    <tr>\n",
              "      <th>&gt; 2 Years</th>\n",
              "      <td>11305</td>\n",
              "      <td>4702</td>\n",
              "      <td>16007</td>\n",
              "      <td>29.374649</td>\n",
              "    </tr>\n",
              "  </tbody>\n",
              "</table>\n",
              "</div>\n",
              "      <button class=\"colab-df-convert\" onclick=\"convertToInteractive('df-694260b2-5561-4f01-bd65-2fce7c8960be')\"\n",
              "              title=\"Convert this dataframe to an interactive table.\"\n",
              "              style=\"display:none;\">\n",
              "        \n",
              "  <svg xmlns=\"http://www.w3.org/2000/svg\" height=\"24px\"viewBox=\"0 0 24 24\"\n",
              "       width=\"24px\">\n",
              "    <path d=\"M0 0h24v24H0V0z\" fill=\"none\"/>\n",
              "    <path d=\"M18.56 5.44l.94 2.06.94-2.06 2.06-.94-2.06-.94-.94-2.06-.94 2.06-2.06.94zm-11 1L8.5 8.5l.94-2.06 2.06-.94-2.06-.94L8.5 2.5l-.94 2.06-2.06.94zm10 10l.94 2.06.94-2.06 2.06-.94-2.06-.94-.94-2.06-.94 2.06-2.06.94z\"/><path d=\"M17.41 7.96l-1.37-1.37c-.4-.4-.92-.59-1.43-.59-.52 0-1.04.2-1.43.59L10.3 9.45l-7.72 7.72c-.78.78-.78 2.05 0 2.83L4 21.41c.39.39.9.59 1.41.59.51 0 1.02-.2 1.41-.59l7.78-7.78 2.81-2.81c.8-.78.8-2.07 0-2.86zM5.41 20L4 18.59l7.72-7.72 1.47 1.35L5.41 20z\"/>\n",
              "  </svg>\n",
              "      </button>\n",
              "      \n",
              "  <style>\n",
              "    .colab-df-container {\n",
              "      display:flex;\n",
              "      flex-wrap:wrap;\n",
              "      gap: 12px;\n",
              "    }\n",
              "\n",
              "    .colab-df-convert {\n",
              "      background-color: #E8F0FE;\n",
              "      border: none;\n",
              "      border-radius: 50%;\n",
              "      cursor: pointer;\n",
              "      display: none;\n",
              "      fill: #1967D2;\n",
              "      height: 32px;\n",
              "      padding: 0 0 0 0;\n",
              "      width: 32px;\n",
              "    }\n",
              "\n",
              "    .colab-df-convert:hover {\n",
              "      background-color: #E2EBFA;\n",
              "      box-shadow: 0px 1px 2px rgba(60, 64, 67, 0.3), 0px 1px 3px 1px rgba(60, 64, 67, 0.15);\n",
              "      fill: #174EA6;\n",
              "    }\n",
              "\n",
              "    [theme=dark] .colab-df-convert {\n",
              "      background-color: #3B4455;\n",
              "      fill: #D2E3FC;\n",
              "    }\n",
              "\n",
              "    [theme=dark] .colab-df-convert:hover {\n",
              "      background-color: #434B5C;\n",
              "      box-shadow: 0px 1px 3px 1px rgba(0, 0, 0, 0.15);\n",
              "      filter: drop-shadow(0px 1px 2px rgba(0, 0, 0, 0.3));\n",
              "      fill: #FFFFFF;\n",
              "    }\n",
              "  </style>\n",
              "\n",
              "      <script>\n",
              "        const buttonEl =\n",
              "          document.querySelector('#df-694260b2-5561-4f01-bd65-2fce7c8960be button.colab-df-convert');\n",
              "        buttonEl.style.display =\n",
              "          google.colab.kernel.accessAllowed ? 'block' : 'none';\n",
              "\n",
              "        async function convertToInteractive(key) {\n",
              "          const element = document.querySelector('#df-694260b2-5561-4f01-bd65-2fce7c8960be');\n",
              "          const dataTable =\n",
              "            await google.colab.kernel.invokeFunction('convertToInteractive',\n",
              "                                                     [key], {});\n",
              "          if (!dataTable) return;\n",
              "\n",
              "          const docLinkHtml = 'Like what you see? Visit the ' +\n",
              "            '<a target=\"_blank\" href=https://colab.research.google.com/notebooks/data_table.ipynb>data table notebook</a>'\n",
              "            + ' to learn more about interactive tables.';\n",
              "          element.innerHTML = '';\n",
              "          dataTable['output_type'] = 'display_data';\n",
              "          await google.colab.output.renderOutput(dataTable, element);\n",
              "          const docLink = document.createElement('div');\n",
              "          docLink.innerHTML = docLinkHtml;\n",
              "          element.appendChild(docLink);\n",
              "        }\n",
              "      </script>\n",
              "    </div>\n",
              "  </div>\n",
              "  "
            ]
          },
          "metadata": {},
          "execution_count": 43
        }
      ]
    },
    {
      "cell_type": "markdown",
      "source": [
        "We observe that '>2 years' is the category with the highest percentage of interested customers (eventhough the numbers are lower than the others) followed by '1-2 years' and finally '<1 year'."
      ],
      "metadata": {
        "id": "14Lq2vfVJo7w"
      }
    },
    {
      "cell_type": "markdown",
      "source": [
        "### **Vehicle Damage**"
      ],
      "metadata": {
        "id": "21zGaPBpKlEe"
      }
    },
    {
      "cell_type": "markdown",
      "source": [
        "Refers to whether the customer got his/her vehicle damaged in the past or not."
      ],
      "metadata": {
        "id": "gxrdsg1wKoFA"
      }
    },
    {
      "cell_type": "code",
      "source": [
        "plt.figure(figsize = (13,5))\n",
        "plt.subplot(1,2,1)\n",
        "sns.countplot(data['Vehicle_Damage'],palette='husl')\n",
        "plt.title(\"Vehicle Damage Count\")\n",
        "plt.subplot(1,2,2)\n",
        "sns.countplot(data['Vehicle_Damage'], hue = data['Response'],palette=\"husl\")\n",
        "plt.title(\"Response across Vehicle Damage\")\n",
        "plt.show()"
      ],
      "metadata": {
        "id": "aaMWo4_gLUFC",
        "colab": {
          "base_uri": "https://localhost:8080/",
          "height": 355
        },
        "outputId": "384bfaac-dcc2-440d-cb53-4739b9fb75a5"
      },
      "execution_count": 44,
      "outputs": [
        {
          "output_type": "display_data",
          "data": {
            "text/plain": [
              "<Figure size 936x360 with 2 Axes>"
            ],
            "image/png": "[encoded data removed]"
          },
          "metadata": {}
        }
      ]
    },
    {
      "cell_type": "markdown",
      "source": [
        "The number of customers who had their vehicle damaged in the past and that of customers who did not have it damaged is around the same.\n",
        "\n",
        "Most of the customers who did not have their vehicle damaged are not interested in the insurance (almost no customers are interested). While in case of customers who did have their vehicle damaged, close to 50,000 people are interested in the insurance."
      ],
      "metadata": {
        "id": "uIqG9a9SLlME"
      }
    },
    {
      "cell_type": "code",
      "source": [
        "# crosstabulation between vehicle damage and response\n",
        "pd.crosstab(data['Vehicle_Damage'],data['Response']).rename(columns = {0:'Not Interested',1:'Interested'})"
      ],
      "metadata": {
        "id": "hUk-k19eML-E",
        "colab": {
          "base_uri": "https://localhost:8080/",
          "height": 143
        },
        "outputId": "e145a6cd-9b2e-4da4-a922-fd7d66e7f84e"
      },
      "execution_count": 45,
      "outputs": [
        {
          "output_type": "execute_result",
          "data": {
            "text/plain": [
              "Response        Not Interested  Interested\n",
              "Vehicle_Damage                            \n",
              "No                      187714         982\n",
              "Yes                     146685       45728"
            ],
            "text/html": [
              "\n",
              "  <div id=\"df-d50c71dc-96e9-4402-9dbb-94871c51157c\">\n",
              "    <div class=\"colab-df-container\">\n",
              "      <div>\n",
              "<style scoped>\n",
              "    .dataframe tbody tr th:only-of-type {\n",
              "        vertical-align: middle;\n",
              "    }\n",
              "\n",
              "    .dataframe tbody tr th {\n",
              "        vertical-align: top;\n",
              "    }\n",
              "\n",
              "    .dataframe thead th {\n",
              "        text-align: right;\n",
              "    }\n",
              "</style>\n",
              "<table border=\"1\" class=\"dataframe\">\n",
              "  <thead>\n",
              "    <tr style=\"text-align: right;\">\n",
              "      <th>Response</th>\n",
              "      <th>Not Interested</th>\n",
              "      <th>Interested</th>\n",
              "    </tr>\n",
              "    <tr>\n",
              "      <th>Vehicle_Damage</th>\n",
              "      <th></th>\n",
              "      <th></th>\n",
              "    </tr>\n",
              "  </thead>\n",
              "  <tbody>\n",
              "    <tr>\n",
              "      <th>No</th>\n",
              "      <td>187714</td>\n",
              "      <td>982</td>\n",
              "    </tr>\n",
              "    <tr>\n",
              "      <th>Yes</th>\n",
              "      <td>146685</td>\n",
              "      <td>45728</td>\n",
              "    </tr>\n",
              "  </tbody>\n",
              "</table>\n",
              "</div>\n",
              "      <button class=\"colab-df-convert\" onclick=\"convertToInteractive('df-d50c71dc-96e9-4402-9dbb-94871c51157c')\"\n",
              "              title=\"Convert this dataframe to an interactive table.\"\n",
              "              style=\"display:none;\">\n",
              "        \n",
              "  <svg xmlns=\"http://www.w3.org/2000/svg\" height=\"24px\"viewBox=\"0 0 24 24\"\n",
              "       width=\"24px\">\n",
              "    <path d=\"M0 0h24v24H0V0z\" fill=\"none\"/>\n",
              "    <path d=\"M18.56 5.44l.94 2.06.94-2.06 2.06-.94-2.06-.94-.94-2.06-.94 2.06-2.06.94zm-11 1L8.5 8.5l.94-2.06 2.06-.94-2.06-.94L8.5 2.5l-.94 2.06-2.06.94zm10 10l.94 2.06.94-2.06 2.06-.94-2.06-.94-.94-2.06-.94 2.06-2.06.94z\"/><path d=\"M17.41 7.96l-1.37-1.37c-.4-.4-.92-.59-1.43-.59-.52 0-1.04.2-1.43.59L10.3 9.45l-7.72 7.72c-.78.78-.78 2.05 0 2.83L4 21.41c.39.39.9.59 1.41.59.51 0 1.02-.2 1.41-.59l7.78-7.78 2.81-2.81c.8-.78.8-2.07 0-2.86zM5.41 20L4 18.59l7.72-7.72 1.47 1.35L5.41 20z\"/>\n",
              "  </svg>\n",
              "      </button>\n",
              "      \n",
              "  <style>\n",
              "    .colab-df-container {\n",
              "      display:flex;\n",
              "      flex-wrap:wrap;\n",
              "      gap: 12px;\n",
              "    }\n",
              "\n",
              "    .colab-df-convert {\n",
              "      background-color: #E8F0FE;\n",
              "      border: none;\n",
              "      border-radius: 50%;\n",
              "      cursor: pointer;\n",
              "      display: none;\n",
              "      fill: #1967D2;\n",
              "      height: 32px;\n",
              "      padding: 0 0 0 0;\n",
              "      width: 32px;\n",
              "    }\n",
              "\n",
              "    .colab-df-convert:hover {\n",
              "      background-color: #E2EBFA;\n",
              "      box-shadow: 0px 1px 2px rgba(60, 64, 67, 0.3), 0px 1px 3px 1px rgba(60, 64, 67, 0.15);\n",
              "      fill: #174EA6;\n",
              "    }\n",
              "\n",
              "    [theme=dark] .colab-df-convert {\n",
              "      background-color: #3B4455;\n",
              "      fill: #D2E3FC;\n",
              "    }\n",
              "\n",
              "    [theme=dark] .colab-df-convert:hover {\n",
              "      background-color: #434B5C;\n",
              "      box-shadow: 0px 1px 3px 1px rgba(0, 0, 0, 0.15);\n",
              "      filter: drop-shadow(0px 1px 2px rgba(0, 0, 0, 0.3));\n",
              "      fill: #FFFFFF;\n",
              "    }\n",
              "  </style>\n",
              "\n",
              "      <script>\n",
              "        const buttonEl =\n",
              "          document.querySelector('#df-d50c71dc-96e9-4402-9dbb-94871c51157c button.colab-df-convert');\n",
              "        buttonEl.style.display =\n",
              "          google.colab.kernel.accessAllowed ? 'block' : 'none';\n",
              "\n",
              "        async function convertToInteractive(key) {\n",
              "          const element = document.querySelector('#df-d50c71dc-96e9-4402-9dbb-94871c51157c');\n",
              "          const dataTable =\n",
              "            await google.colab.kernel.invokeFunction('convertToInteractive',\n",
              "                                                     [key], {});\n",
              "          if (!dataTable) return;\n",
              "\n",
              "          const docLinkHtml = 'Like what you see? Visit the ' +\n",
              "            '<a target=\"_blank\" href=https://colab.research.google.com/notebooks/data_table.ipynb>data table notebook</a>'\n",
              "            + ' to learn more about interactive tables.';\n",
              "          element.innerHTML = '';\n",
              "          dataTable['output_type'] = 'display_data';\n",
              "          await google.colab.output.renderOutput(dataTable, element);\n",
              "          const docLink = document.createElement('div');\n",
              "          docLink.innerHTML = docLinkHtml;\n",
              "          element.appendChild(docLink);\n",
              "        }\n",
              "      </script>\n",
              "    </div>\n",
              "  </div>\n",
              "  "
            ]
          },
          "metadata": {},
          "execution_count": 45
        }
      ]
    },
    {
      "cell_type": "markdown",
      "source": [
        "We can see that out of the customers who did not have their vehicle damaged in the past, only 982 are interested."
      ],
      "metadata": {
        "id": "ArrpKQbFMs49"
      }
    },
    {
      "cell_type": "markdown",
      "source": [
        "### **Multicollinearity**"
      ],
      "metadata": {
        "id": "57cO2imqOX6c"
      }
    },
    {
      "cell_type": "markdown",
      "source": [
        "We can look for multicollinearity between the variables by plotting a correlation heatmap."
      ],
      "metadata": {
        "id": "HGaIKyxMOd_i"
      }
    },
    {
      "cell_type": "code",
      "source": [
        "corr = data.corr()\n",
        "plt.figure(figsize = (10,10))\n",
        "# f, ax = plt.subplots(figsize=(10,10))\n",
        "sns.heatmap(abs(corr), annot=True,linewidths=3,cmap='coolwarm')\n",
        "plt.title(\"Correlation Heatmap\", y=1.05, size=15)"
      ],
      "metadata": {
        "id": "nTmh5flfOEAK",
        "colab": {
          "base_uri": "https://localhost:8080/",
          "height": 737
        },
        "outputId": "97df2030-68b8-44bb-9876-27dd08aa0507"
      },
      "execution_count": 46,
      "outputs": [
        {
          "output_type": "execute_result",
          "data": {
            "text/plain": [
              "Text(0.5, 1.05, 'Correlation Heatmap')"
            ]
          },
          "metadata": {},
          "execution_count": 46
        },
        {
          "output_type": "display_data",
          "data": {
            "text/plain": [
              "<Figure size 720x720 with 2 Axes>"
            ],
            "image/png": "[encoded data removed]"
          },
          "metadata": {}
        }
      ]
    },
    {
      "cell_type": "markdown",
      "source": [
        "None of the variables have high correlation with each other."
      ],
      "metadata": {
        "id": "qjIuqSeVSpcM"
      }
    },
    {
      "cell_type": "markdown",
      "source": [
        "### **Encoding**"
      ],
      "metadata": {
        "id": "3iPMgT8ckICx"
      }
    },
    {
      "cell_type": "markdown",
      "source": [
        "#### Let us have a look at the categorical variables"
      ],
      "metadata": {
        "id": "I0sf-lTdkKGd"
      }
    },
    {
      "cell_type": "code",
      "source": [
        "data.describe(include = 'object')"
      ],
      "metadata": {
        "id": "a65vW8--kNsA",
        "colab": {
          "base_uri": "https://localhost:8080/",
          "height": 175
        },
        "outputId": "89d3157a-3ed8-4e5f-9db8-057e31cc7b6d"
      },
      "execution_count": 47,
      "outputs": [
        {
          "output_type": "execute_result",
          "data": {
            "text/plain": [
              "        Gender Vehicle_Age Vehicle_Damage\n",
              "count   381109      381109         381109\n",
              "unique       2           3              2\n",
              "top       Male    1-2 Year            Yes\n",
              "freq    206089      200316         192413"
            ],
            "text/html": [
              "\n",
              "  <div id=\"df-68e87369-6070-4bbd-8b6b-dcc5ae11571e\">\n",
              "    <div class=\"colab-df-container\">\n",
              "      <div>\n",
              "<style scoped>\n",
              "    .dataframe tbody tr th:only-of-type {\n",
              "        vertical-align: middle;\n",
              "    }\n",
              "\n",
              "    .dataframe tbody tr th {\n",
              "        vertical-align: top;\n",
              "    }\n",
              "\n",
              "    .dataframe thead th {\n",
              "        text-align: right;\n",
              "    }\n",
              "</style>\n",
              "<table border=\"1\" class=\"dataframe\">\n",
              "  <thead>\n",
              "    <tr style=\"text-align: right;\">\n",
              "      <th></th>\n",
              "      <th>Gender</th>\n",
              "      <th>Vehicle_Age</th>\n",
              "      <th>Vehicle_Damage</th>\n",
              "    </tr>\n",
              "  </thead>\n",
              "  <tbody>\n",
              "    <tr>\n",
              "      <th>count</th>\n",
              "      <td>381109</td>\n",
              "      <td>381109</td>\n",
              "      <td>381109</td>\n",
              "    </tr>\n",
              "    <tr>\n",
              "      <th>unique</th>\n",
              "      <td>2</td>\n",
              "      <td>3</td>\n",
              "      <td>2</td>\n",
              "    </tr>\n",
              "    <tr>\n",
              "      <th>top</th>\n",
              "      <td>Male</td>\n",
              "      <td>1-2 Year</td>\n",
              "      <td>Yes</td>\n",
              "    </tr>\n",
              "    <tr>\n",
              "      <th>freq</th>\n",
              "      <td>206089</td>\n",
              "      <td>200316</td>\n",
              "      <td>192413</td>\n",
              "    </tr>\n",
              "  </tbody>\n",
              "</table>\n",
              "</div>\n",
              "      <button class=\"colab-df-convert\" onclick=\"convertToInteractive('df-68e87369-6070-4bbd-8b6b-dcc5ae11571e')\"\n",
              "              title=\"Convert this dataframe to an interactive table.\"\n",
              "              style=\"display:none;\">\n",
              "        \n",
              "  <svg xmlns=\"http://www.w3.org/2000/svg\" height=\"24px\"viewBox=\"0 0 24 24\"\n",
              "       width=\"24px\">\n",
              "    <path d=\"M0 0h24v24H0V0z\" fill=\"none\"/>\n",
              "    <path d=\"M18.56 5.44l.94 2.06.94-2.06 2.06-.94-2.06-.94-.94-2.06-.94 2.06-2.06.94zm-11 1L8.5 8.5l.94-2.06 2.06-.94-2.06-.94L8.5 2.5l-.94 2.06-2.06.94zm10 10l.94 2.06.94-2.06 2.06-.94-2.06-.94-.94-2.06-.94 2.06-2.06.94z\"/><path d=\"M17.41 7.96l-1.37-1.37c-.4-.4-.92-.59-1.43-.59-.52 0-1.04.2-1.43.59L10.3 9.45l-7.72 7.72c-.78.78-.78 2.05 0 2.83L4 21.41c.39.39.9.59 1.41.59.51 0 1.02-.2 1.41-.59l7.78-7.78 2.81-2.81c.8-.78.8-2.07 0-2.86zM5.41 20L4 18.59l7.72-7.72 1.47 1.35L5.41 20z\"/>\n",
              "  </svg>\n",
              "      </button>\n",
              "      \n",
              "  <style>\n",
              "    .colab-df-container {\n",
              "      display:flex;\n",
              "      flex-wrap:wrap;\n",
              "      gap: 12px;\n",
              "    }\n",
              "\n",
              "    .colab-df-convert {\n",
              "      background-color: #E8F0FE;\n",
              "      border: none;\n",
              "      border-radius: 50%;\n",
              "      cursor: pointer;\n",
              "      display: none;\n",
              "      fill: #1967D2;\n",
              "      height: 32px;\n",
              "      padding: 0 0 0 0;\n",
              "      width: 32px;\n",
              "    }\n",
              "\n",
              "    .colab-df-convert:hover {\n",
              "      background-color: #E2EBFA;\n",
              "      box-shadow: 0px 1px 2px rgba(60, 64, 67, 0.3), 0px 1px 3px 1px rgba(60, 64, 67, 0.15);\n",
              "      fill: #174EA6;\n",
              "    }\n",
              "\n",
              "    [theme=dark] .colab-df-convert {\n",
              "      background-color: #3B4455;\n",
              "      fill: #D2E3FC;\n",
              "    }\n",
              "\n",
              "    [theme=dark] .colab-df-convert:hover {\n",
              "      background-color: #434B5C;\n",
              "      box-shadow: 0px 1px 3px 1px rgba(0, 0, 0, 0.15);\n",
              "      filter: drop-shadow(0px 1px 2px rgba(0, 0, 0, 0.3));\n",
              "      fill: #FFFFFF;\n",
              "    }\n",
              "  </style>\n",
              "\n",
              "      <script>\n",
              "        const buttonEl =\n",
              "          document.querySelector('#df-68e87369-6070-4bbd-8b6b-dcc5ae11571e button.colab-df-convert');\n",
              "        buttonEl.style.display =\n",
              "          google.colab.kernel.accessAllowed ? 'block' : 'none';\n",
              "\n",
              "        async function convertToInteractive(key) {\n",
              "          const element = document.querySelector('#df-68e87369-6070-4bbd-8b6b-dcc5ae11571e');\n",
              "          const dataTable =\n",
              "            await google.colab.kernel.invokeFunction('convertToInteractive',\n",
              "                                                     [key], {});\n",
              "          if (!dataTable) return;\n",
              "\n",
              "          const docLinkHtml = 'Like what you see? Visit the ' +\n",
              "            '<a target=\"_blank\" href=https://colab.research.google.com/notebooks/data_table.ipynb>data table notebook</a>'\n",
              "            + ' to learn more about interactive tables.';\n",
              "          element.innerHTML = '';\n",
              "          dataTable['output_type'] = 'display_data';\n",
              "          await google.colab.output.renderOutput(dataTable, element);\n",
              "          const docLink = document.createElement('div');\n",
              "          docLink.innerHTML = docLinkHtml;\n",
              "          element.appendChild(docLink);\n",
              "        }\n",
              "      </script>\n",
              "    </div>\n",
              "  </div>\n",
              "  "
            ]
          },
          "metadata": {},
          "execution_count": 47
        }
      ]
    },
    {
      "cell_type": "markdown",
      "source": [
        "#### We need to convert these categorical variables into numerical form for the models."
      ],
      "metadata": {
        "id": "FP0hUoZRojNM"
      }
    },
    {
      "cell_type": "markdown",
      "source": [
        "#### Gender and Vehicle_Damage are binary categorical variables as we know already from the analysis. They can be converted into numerical form by mapping to 0 and 1."
      ],
      "metadata": {
        "id": "mCcD-zZXlJm3"
      }
    },
    {
      "cell_type": "code",
      "source": [
        "# looking at some of the data\n",
        "data[['Gender','Vehicle_Damage']].head()"
      ],
      "metadata": {
        "id": "aIBrmsw4l-3P",
        "colab": {
          "base_uri": "https://localhost:8080/",
          "height": 206
        },
        "outputId": "67b9a084-76f0-4818-ac00-d8b20ef99e50"
      },
      "execution_count": 48,
      "outputs": [
        {
          "output_type": "execute_result",
          "data": {
            "text/plain": [
              "   Gender Vehicle_Damage\n",
              "0    Male            Yes\n",
              "1    Male             No\n",
              "2    Male            Yes\n",
              "3    Male             No\n",
              "4  Female             No"
            ],
            "text/html": [
              "\n",
              "  <div id=\"df-2b4da9d7-b909-49d8-bca3-2e82458ae625\">\n",
              "    <div class=\"colab-df-container\">\n",
              "      <div>\n",
              "<style scoped>\n",
              "    .dataframe tbody tr th:only-of-type {\n",
              "        vertical-align: middle;\n",
              "    }\n",
              "\n",
              "    .dataframe tbody tr th {\n",
              "        vertical-align: top;\n",
              "    }\n",
              "\n",
              "    .dataframe thead th {\n",
              "        text-align: right;\n",
              "    }\n",
              "</style>\n",
              "<table border=\"1\" class=\"dataframe\">\n",
              "  <thead>\n",
              "    <tr style=\"text-align: right;\">\n",
              "      <th></th>\n",
              "      <th>Gender</th>\n",
              "      <th>Vehicle_Damage</th>\n",
              "    </tr>\n",
              "  </thead>\n",
              "  <tbody>\n",
              "    <tr>\n",
              "      <th>0</th>\n",
              "      <td>Male</td>\n",
              "      <td>Yes</td>\n",
              "    </tr>\n",
              "    <tr>\n",
              "      <th>1</th>\n",
              "      <td>Male</td>\n",
              "      <td>No</td>\n",
              "    </tr>\n",
              "    <tr>\n",
              "      <th>2</th>\n",
              "      <td>Male</td>\n",
              "      <td>Yes</td>\n",
              "    </tr>\n",
              "    <tr>\n",
              "      <th>3</th>\n",
              "      <td>Male</td>\n",
              "      <td>No</td>\n",
              "    </tr>\n",
              "    <tr>\n",
              "      <th>4</th>\n",
              "      <td>Female</td>\n",
              "      <td>No</td>\n",
              "    </tr>\n",
              "  </tbody>\n",
              "</table>\n",
              "</div>\n",
              "      <button class=\"colab-df-convert\" onclick=\"convertToInteractive('df-2b4da9d7-b909-49d8-bca3-2e82458ae625')\"\n",
              "              title=\"Convert this dataframe to an interactive table.\"\n",
              "              style=\"display:none;\">\n",
              "        \n",
              "  <svg xmlns=\"http://www.w3.org/2000/svg\" height=\"24px\"viewBox=\"0 0 24 24\"\n",
              "       width=\"24px\">\n",
              "    <path d=\"M0 0h24v24H0V0z\" fill=\"none\"/>\n",
              "    <path d=\"M18.56 5.44l.94 2.06.94-2.06 2.06-.94-2.06-.94-.94-2.06-.94 2.06-2.06.94zm-11 1L8.5 8.5l.94-2.06 2.06-.94-2.06-.94L8.5 2.5l-.94 2.06-2.06.94zm10 10l.94 2.06.94-2.06 2.06-.94-2.06-.94-.94-2.06-.94 2.06-2.06.94z\"/><path d=\"M17.41 7.96l-1.37-1.37c-.4-.4-.92-.59-1.43-.59-.52 0-1.04.2-1.43.59L10.3 9.45l-7.72 7.72c-.78.78-.78 2.05 0 2.83L4 21.41c.39.39.9.59 1.41.59.51 0 1.02-.2 1.41-.59l7.78-7.78 2.81-2.81c.8-.78.8-2.07 0-2.86zM5.41 20L4 18.59l7.72-7.72 1.47 1.35L5.41 20z\"/>\n",
              "  </svg>\n",
              "      </button>\n",
              "      \n",
              "  <style>\n",
              "    .colab-df-container {\n",
              "      display:flex;\n",
              "      flex-wrap:wrap;\n",
              "      gap: 12px;\n",
              "    }\n",
              "\n",
              "    .colab-df-convert {\n",
              "      background-color: #E8F0FE;\n",
              "      border: none;\n",
              "      border-radius: 50%;\n",
              "      cursor: pointer;\n",
              "      display: none;\n",
              "      fill: #1967D2;\n",
              "      height: 32px;\n",
              "      padding: 0 0 0 0;\n",
              "      width: 32px;\n",
              "    }\n",
              "\n",
              "    .colab-df-convert:hover {\n",
              "      background-color: #E2EBFA;\n",
              "      box-shadow: 0px 1px 2px rgba(60, 64, 67, 0.3), 0px 1px 3px 1px rgba(60, 64, 67, 0.15);\n",
              "      fill: #174EA6;\n",
              "    }\n",
              "\n",
              "    [theme=dark] .colab-df-convert {\n",
              "      background-color: #3B4455;\n",
              "      fill: #D2E3FC;\n",
              "    }\n",
              "\n",
              "    [theme=dark] .colab-df-convert:hover {\n",
              "      background-color: #434B5C;\n",
              "      box-shadow: 0px 1px 3px 1px rgba(0, 0, 0, 0.15);\n",
              "      filter: drop-shadow(0px 1px 2px rgba(0, 0, 0, 0.3));\n",
              "      fill: #FFFFFF;\n",
              "    }\n",
              "  </style>\n",
              "\n",
              "      <script>\n",
              "        const buttonEl =\n",
              "          document.querySelector('#df-2b4da9d7-b909-49d8-bca3-2e82458ae625 button.colab-df-convert');\n",
              "        buttonEl.style.display =\n",
              "          google.colab.kernel.accessAllowed ? 'block' : 'none';\n",
              "\n",
              "        async function convertToInteractive(key) {\n",
              "          const element = document.querySelector('#df-2b4da9d7-b909-49d8-bca3-2e82458ae625');\n",
              "          const dataTable =\n",
              "            await google.colab.kernel.invokeFunction('convertToInteractive',\n",
              "                                                     [key], {});\n",
              "          if (!dataTable) return;\n",
              "\n",
              "          const docLinkHtml = 'Like what you see? Visit the ' +\n",
              "            '<a target=\"_blank\" href=https://colab.research.google.com/notebooks/data_table.ipynb>data table notebook</a>'\n",
              "            + ' to learn more about interactive tables.';\n",
              "          element.innerHTML = '';\n",
              "          dataTable['output_type'] = 'display_data';\n",
              "          await google.colab.output.renderOutput(dataTable, element);\n",
              "          const docLink = document.createElement('div');\n",
              "          docLink.innerHTML = docLinkHtml;\n",
              "          element.appendChild(docLink);\n",
              "        }\n",
              "      </script>\n",
              "    </div>\n",
              "  </div>\n",
              "  "
            ]
          },
          "metadata": {},
          "execution_count": 48
        }
      ]
    },
    {
      "cell_type": "code",
      "source": [
        "# converting binary categorical variables to numerical form\n",
        "labelEncoder= LabelEncoder()\n",
        "data['Gender'] = labelEncoder.fit_transform(data['Gender'])\n",
        "data['Vehicle_Damage'] = labelEncoder.fit_transform(data['Vehicle_Damage'])"
      ],
      "metadata": {
        "id": "VluOhPDAlWq4"
      },
      "execution_count": 49,
      "outputs": []
    },
    {
      "cell_type": "code",
      "source": [
        "# rechecking those data again\n",
        "data[['Gender','Vehicle_Damage']].head()"
      ],
      "metadata": {
        "id": "V82YCrNjl2oo",
        "colab": {
          "base_uri": "https://localhost:8080/",
          "height": 206
        },
        "outputId": "d8945c58-7af5-4bb1-e1cb-03ca383c24b2"
      },
      "execution_count": 50,
      "outputs": [
        {
          "output_type": "execute_result",
          "data": {
            "text/plain": [
              "   Gender  Vehicle_Damage\n",
              "0       1               1\n",
              "1       1               0\n",
              "2       1               1\n",
              "3       1               0\n",
              "4       0               0"
            ],
            "text/html": [
              "\n",
              "  <div id=\"df-643c8a6e-e320-465a-9b07-548500d75122\">\n",
              "    <div class=\"colab-df-container\">\n",
              "      <div>\n",
              "<style scoped>\n",
              "    .dataframe tbody tr th:only-of-type {\n",
              "        vertical-align: middle;\n",
              "    }\n",
              "\n",
              "    .dataframe tbody tr th {\n",
              "        vertical-align: top;\n",
              "    }\n",
              "\n",
              "    .dataframe thead th {\n",
              "        text-align: right;\n",
              "    }\n",
              "</style>\n",
              "<table border=\"1\" class=\"dataframe\">\n",
              "  <thead>\n",
              "    <tr style=\"text-align: right;\">\n",
              "      <th></th>\n",
              "      <th>Gender</th>\n",
              "      <th>Vehicle_Damage</th>\n",
              "    </tr>\n",
              "  </thead>\n",
              "  <tbody>\n",
              "    <tr>\n",
              "      <th>0</th>\n",
              "      <td>1</td>\n",
              "      <td>1</td>\n",
              "    </tr>\n",
              "    <tr>\n",
              "      <th>1</th>\n",
              "      <td>1</td>\n",
              "      <td>0</td>\n",
              "    </tr>\n",
              "    <tr>\n",
              "      <th>2</th>\n",
              "      <td>1</td>\n",
              "      <td>1</td>\n",
              "    </tr>\n",
              "    <tr>\n",
              "      <th>3</th>\n",
              "      <td>1</td>\n",
              "      <td>0</td>\n",
              "    </tr>\n",
              "    <tr>\n",
              "      <th>4</th>\n",
              "      <td>0</td>\n",
              "      <td>0</td>\n",
              "    </tr>\n",
              "  </tbody>\n",
              "</table>\n",
              "</div>\n",
              "      <button class=\"colab-df-convert\" onclick=\"convertToInteractive('df-643c8a6e-e320-465a-9b07-548500d75122')\"\n",
              "              title=\"Convert this dataframe to an interactive table.\"\n",
              "              style=\"display:none;\">\n",
              "        \n",
              "  <svg xmlns=\"http://www.w3.org/2000/svg\" height=\"24px\"viewBox=\"0 0 24 24\"\n",
              "       width=\"24px\">\n",
              "    <path d=\"M0 0h24v24H0V0z\" fill=\"none\"/>\n",
              "    <path d=\"M18.56 5.44l.94 2.06.94-2.06 2.06-.94-2.06-.94-.94-2.06-.94 2.06-2.06.94zm-11 1L8.5 8.5l.94-2.06 2.06-.94-2.06-.94L8.5 2.5l-.94 2.06-2.06.94zm10 10l.94 2.06.94-2.06 2.06-.94-2.06-.94-.94-2.06-.94 2.06-2.06.94z\"/><path d=\"M17.41 7.96l-1.37-1.37c-.4-.4-.92-.59-1.43-.59-.52 0-1.04.2-1.43.59L10.3 9.45l-7.72 7.72c-.78.78-.78 2.05 0 2.83L4 21.41c.39.39.9.59 1.41.59.51 0 1.02-.2 1.41-.59l7.78-7.78 2.81-2.81c.8-.78.8-2.07 0-2.86zM5.41 20L4 18.59l7.72-7.72 1.47 1.35L5.41 20z\"/>\n",
              "  </svg>\n",
              "      </button>\n",
              "      \n",
              "  <style>\n",
              "    .colab-df-container {\n",
              "      display:flex;\n",
              "      flex-wrap:wrap;\n",
              "      gap: 12px;\n",
              "    }\n",
              "\n",
              "    .colab-df-convert {\n",
              "      background-color: #E8F0FE;\n",
              "      border: none;\n",
              "      border-radius: 50%;\n",
              "      cursor: pointer;\n",
              "      display: none;\n",
              "      fill: #1967D2;\n",
              "      height: 32px;\n",
              "      padding: 0 0 0 0;\n",
              "      width: 32px;\n",
              "    }\n",
              "\n",
              "    .colab-df-convert:hover {\n",
              "      background-color: #E2EBFA;\n",
              "      box-shadow: 0px 1px 2px rgba(60, 64, 67, 0.3), 0px 1px 3px 1px rgba(60, 64, 67, 0.15);\n",
              "      fill: #174EA6;\n",
              "    }\n",
              "\n",
              "    [theme=dark] .colab-df-convert {\n",
              "      background-color: #3B4455;\n",
              "      fill: #D2E3FC;\n",
              "    }\n",
              "\n",
              "    [theme=dark] .colab-df-convert:hover {\n",
              "      background-color: #434B5C;\n",
              "      box-shadow: 0px 1px 3px 1px rgba(0, 0, 0, 0.15);\n",
              "      filter: drop-shadow(0px 1px 2px rgba(0, 0, 0, 0.3));\n",
              "      fill: #FFFFFF;\n",
              "    }\n",
              "  </style>\n",
              "\n",
              "      <script>\n",
              "        const buttonEl =\n",
              "          document.querySelector('#df-643c8a6e-e320-465a-9b07-548500d75122 button.colab-df-convert');\n",
              "        buttonEl.style.display =\n",
              "          google.colab.kernel.accessAllowed ? 'block' : 'none';\n",
              "\n",
              "        async function convertToInteractive(key) {\n",
              "          const element = document.querySelector('#df-643c8a6e-e320-465a-9b07-548500d75122');\n",
              "          const dataTable =\n",
              "            await google.colab.kernel.invokeFunction('convertToInteractive',\n",
              "                                                     [key], {});\n",
              "          if (!dataTable) return;\n",
              "\n",
              "          const docLinkHtml = 'Like what you see? Visit the ' +\n",
              "            '<a target=\"_blank\" href=https://colab.research.google.com/notebooks/data_table.ipynb>data table notebook</a>'\n",
              "            + ' to learn more about interactive tables.';\n",
              "          element.innerHTML = '';\n",
              "          dataTable['output_type'] = 'display_data';\n",
              "          await google.colab.output.renderOutput(dataTable, element);\n",
              "          const docLink = document.createElement('div');\n",
              "          docLink.innerHTML = docLinkHtml;\n",
              "          element.appendChild(docLink);\n",
              "        }\n",
              "      </script>\n",
              "    </div>\n",
              "  </div>\n",
              "  "
            ]
          },
          "metadata": {},
          "execution_count": 50
        }
      ]
    },
    {
      "cell_type": "markdown",
      "source": [
        "#### We can see that in case of Gender, Male and Female have been mapped to 1 and 0 respectively. In case of Vehicle Damage, Yes and No have been transformed to 1 and 0 respectively as well.\n",
        "#### But Vehicle Age column has three categories:"
      ],
      "metadata": {
        "id": "aozOP2EpmMPr"
      }
    },
    {
      "cell_type": "code",
      "source": [
        "data['Vehicle_Age'].value_counts()"
      ],
      "metadata": {
        "id": "sCVu28ucmyd_",
        "colab": {
          "base_uri": "https://localhost:8080/"
        },
        "outputId": "cfa89fb3-c7d7-4309-b456-0d21fcd65642"
      },
      "execution_count": 51,
      "outputs": [
        {
          "output_type": "execute_result",
          "data": {
            "text/plain": [
              "1-2 Year     200316\n",
              "< 1 Year     164786\n",
              "> 2 Years     16007\n",
              "Name: Vehicle_Age, dtype: int64"
            ]
          },
          "metadata": {},
          "execution_count": 51
        }
      ]
    },
    {
      "cell_type": "markdown",
      "source": [
        "#### And it doesn't really make any sense to map them to integer values. So we can apply One Hot Encoding instead and create dummy variables."
      ],
      "metadata": {
        "id": "nBXnImHRm2R_"
      }
    },
    {
      "cell_type": "code",
      "source": [
        "# One hot encoding on Vehicle_Age (removing one of the dummy variables using drop_first as that information is already present)\n",
        "data = pd.get_dummies(data, columns = ['Vehicle_Age'], drop_first = True)"
      ],
      "metadata": {
        "id": "U8Gb0QcxnIZu"
      },
      "execution_count": 52,
      "outputs": []
    },
    {
      "cell_type": "code",
      "source": [
        "data.head()"
      ],
      "metadata": {
        "id": "Mt6WWnv3oJyD",
        "colab": {
          "base_uri": "https://localhost:8080/",
          "height": 288
        },
        "outputId": "3588eb83-8fed-4e7e-fc1b-06d1f5b50eca"
      },
      "execution_count": 53,
      "outputs": [
        {
          "output_type": "execute_result",
          "data": {
            "text/plain": [
              "   id  Gender  Age  Driving_License  Region_Code  Previously_Insured  \\\n",
              "0   1       1   44                1         28.0                   0   \n",
              "1   2       1   76                1          3.0                   0   \n",
              "2   3       1   47                1         28.0                   0   \n",
              "3   4       1   21                1         11.0                   1   \n",
              "4   5       0   29                1         41.0                   1   \n",
              "\n",
              "   Vehicle_Damage  Annual_Premium  Policy_Sales_Channel  Vintage  Response  \\\n",
              "0               1         40454.0                  26.0      217         1   \n",
              "1               0         33536.0                  26.0      183         0   \n",
              "2               1         38294.0                  26.0       27         1   \n",
              "3               0         28619.0                 152.0      203         0   \n",
              "4               0         27496.0                 152.0       39         0   \n",
              "\n",
              "   Vehicle_Age_< 1 Year  Vehicle_Age_> 2 Years  \n",
              "0                     0                      1  \n",
              "1                     0                      0  \n",
              "2                     0                      1  \n",
              "3                     1                      0  \n",
              "4                     1                      0  "
            ],
            "text/html": [
              "\n",
              "  <div id=\"df-d0690b87-a0be-4318-9547-8c01db1010fa\">\n",
              "    <div class=\"colab-df-container\">\n",
              "      <div>\n",
              "<style scoped>\n",
              "    .dataframe tbody tr th:only-of-type {\n",
              "        vertical-align: middle;\n",
              "    }\n",
              "\n",
              "    .dataframe tbody tr th {\n",
              "        vertical-align: top;\n",
              "    }\n",
              "\n",
              "    .dataframe thead th {\n",
              "        text-align: right;\n",
              "    }\n",
              "</style>\n",
              "<table border=\"1\" class=\"dataframe\">\n",
              "  <thead>\n",
              "    <tr style=\"text-align: right;\">\n",
              "      <th></th>\n",
              "      <th>id</th>\n",
              "      <th>Gender</th>\n",
              "      <th>Age</th>\n",
              "      <th>Driving_License</th>\n",
              "      <th>Region_Code</th>\n",
              "      <th>Previously_Insured</th>\n",
              "      <th>Vehicle_Damage</th>\n",
              "      <th>Annual_Premium</th>\n",
              "      <th>Policy_Sales_Channel</th>\n",
              "      <th>Vintage</th>\n",
              "      <th>Response</th>\n",
              "      <th>Vehicle_Age_&lt; 1 Year</th>\n",
              "      <th>Vehicle_Age_&gt; 2 Years</th>\n",
              "    </tr>\n",
              "  </thead>\n",
              "  <tbody>\n",
              "    <tr>\n",
              "      <th>0</th>\n",
              "      <td>1</td>\n",
              "      <td>1</td>\n",
              "      <td>44</td>\n",
              "      <td>1</td>\n",
              "      <td>28.0</td>\n",
              "      <td>0</td>\n",
              "      <td>1</td>\n",
              "      <td>40454.0</td>\n",
              "      <td>26.0</td>\n",
              "      <td>217</td>\n",
              "      <td>1</td>\n",
              "      <td>0</td>\n",
              "      <td>1</td>\n",
              "    </tr>\n",
              "    <tr>\n",
              "      <th>1</th>\n",
              "      <td>2</td>\n",
              "      <td>1</td>\n",
              "      <td>76</td>\n",
              "      <td>1</td>\n",
              "      <td>3.0</td>\n",
              "      <td>0</td>\n",
              "      <td>0</td>\n",
              "      <td>33536.0</td>\n",
              "      <td>26.0</td>\n",
              "      <td>183</td>\n",
              "      <td>0</td>\n",
              "      <td>0</td>\n",
              "      <td>0</td>\n",
              "    </tr>\n",
              "    <tr>\n",
              "      <th>2</th>\n",
              "      <td>3</td>\n",
              "      <td>1</td>\n",
              "      <td>47</td>\n",
              "      <td>1</td>\n",
              "      <td>28.0</td>\n",
              "      <td>0</td>\n",
              "      <td>1</td>\n",
              "      <td>38294.0</td>\n",
              "      <td>26.0</td>\n",
              "      <td>27</td>\n",
              "      <td>1</td>\n",
              "      <td>0</td>\n",
              "      <td>1</td>\n",
              "    </tr>\n",
              "    <tr>\n",
              "      <th>3</th>\n",
              "      <td>4</td>\n",
              "      <td>1</td>\n",
              "      <td>21</td>\n",
              "      <td>1</td>\n",
              "      <td>11.0</td>\n",
              "      <td>1</td>\n",
              "      <td>0</td>\n",
              "      <td>28619.0</td>\n",
              "      <td>152.0</td>\n",
              "      <td>203</td>\n",
              "      <td>0</td>\n",
              "      <td>1</td>\n",
              "      <td>0</td>\n",
              "    </tr>\n",
              "    <tr>\n",
              "      <th>4</th>\n",
              "      <td>5</td>\n",
              "      <td>0</td>\n",
              "      <td>29</td>\n",
              "      <td>1</td>\n",
              "      <td>41.0</td>\n",
              "      <td>1</td>\n",
              "      <td>0</td>\n",
              "      <td>27496.0</td>\n",
              "      <td>152.0</td>\n",
              "      <td>39</td>\n",
              "      <td>0</td>\n",
              "      <td>1</td>\n",
              "      <td>0</td>\n",
              "    </tr>\n",
              "  </tbody>\n",
              "</table>\n",
              "</div>\n",
              "      <button class=\"colab-df-convert\" onclick=\"convertToInteractive('df-d0690b87-a0be-4318-9547-8c01db1010fa')\"\n",
              "              title=\"Convert this dataframe to an interactive table.\"\n",
              "              style=\"display:none;\">\n",
              "        \n",
              "  <svg xmlns=\"http://www.w3.org/2000/svg\" height=\"24px\"viewBox=\"0 0 24 24\"\n",
              "       width=\"24px\">\n",
              "    <path d=\"M0 0h24v24H0V0z\" fill=\"none\"/>\n",
              "    <path d=\"M18.56 5.44l.94 2.06.94-2.06 2.06-.94-2.06-.94-.94-2.06-.94 2.06-2.06.94zm-11 1L8.5 8.5l.94-2.06 2.06-.94-2.06-.94L8.5 2.5l-.94 2.06-2.06.94zm10 10l.94 2.06.94-2.06 2.06-.94-2.06-.94-.94-2.06-.94 2.06-2.06.94z\"/><path d=\"M17.41 7.96l-1.37-1.37c-.4-.4-.92-.59-1.43-.59-.52 0-1.04.2-1.43.59L10.3 9.45l-7.72 7.72c-.78.78-.78 2.05 0 2.83L4 21.41c.39.39.9.59 1.41.59.51 0 1.02-.2 1.41-.59l7.78-7.78 2.81-2.81c.8-.78.8-2.07 0-2.86zM5.41 20L4 18.59l7.72-7.72 1.47 1.35L5.41 20z\"/>\n",
              "  </svg>\n",
              "      </button>\n",
              "      \n",
              "  <style>\n",
              "    .colab-df-container {\n",
              "      display:flex;\n",
              "      flex-wrap:wrap;\n",
              "      gap: 12px;\n",
              "    }\n",
              "\n",
              "    .colab-df-convert {\n",
              "      background-color: #E8F0FE;\n",
              "      border: none;\n",
              "      border-radius: 50%;\n",
              "      cursor: pointer;\n",
              "      display: none;\n",
              "      fill: #1967D2;\n",
              "      height: 32px;\n",
              "      padding: 0 0 0 0;\n",
              "      width: 32px;\n",
              "    }\n",
              "\n",
              "    .colab-df-convert:hover {\n",
              "      background-color: #E2EBFA;\n",
              "      box-shadow: 0px 1px 2px rgba(60, 64, 67, 0.3), 0px 1px 3px 1px rgba(60, 64, 67, 0.15);\n",
              "      fill: #174EA6;\n",
              "    }\n",
              "\n",
              "    [theme=dark] .colab-df-convert {\n",
              "      background-color: #3B4455;\n",
              "      fill: #D2E3FC;\n",
              "    }\n",
              "\n",
              "    [theme=dark] .colab-df-convert:hover {\n",
              "      background-color: #434B5C;\n",
              "      box-shadow: 0px 1px 3px 1px rgba(0, 0, 0, 0.15);\n",
              "      filter: drop-shadow(0px 1px 2px rgba(0, 0, 0, 0.3));\n",
              "      fill: #FFFFFF;\n",
              "    }\n",
              "  </style>\n",
              "\n",
              "      <script>\n",
              "        const buttonEl =\n",
              "          document.querySelector('#df-d0690b87-a0be-4318-9547-8c01db1010fa button.colab-df-convert');\n",
              "        buttonEl.style.display =\n",
              "          google.colab.kernel.accessAllowed ? 'block' : 'none';\n",
              "\n",
              "        async function convertToInteractive(key) {\n",
              "          const element = document.querySelector('#df-d0690b87-a0be-4318-9547-8c01db1010fa');\n",
              "          const dataTable =\n",
              "            await google.colab.kernel.invokeFunction('convertToInteractive',\n",
              "                                                     [key], {});\n",
              "          if (!dataTable) return;\n",
              "\n",
              "          const docLinkHtml = 'Like what you see? Visit the ' +\n",
              "            '<a target=\"_blank\" href=https://colab.research.google.com/notebooks/data_table.ipynb>data table notebook</a>'\n",
              "            + ' to learn more about interactive tables.';\n",
              "          element.innerHTML = '';\n",
              "          dataTable['output_type'] = 'display_data';\n",
              "          await google.colab.output.renderOutput(dataTable, element);\n",
              "          const docLink = document.createElement('div');\n",
              "          docLink.innerHTML = docLinkHtml;\n",
              "          element.appendChild(docLink);\n",
              "        }\n",
              "      </script>\n",
              "    </div>\n",
              "  </div>\n",
              "  "
            ]
          },
          "metadata": {},
          "execution_count": 53
        }
      ]
    },
    {
      "cell_type": "markdown",
      "source": [
        "### **Handling class imbalance**"
      ],
      "metadata": {
        "id": "qtLOiGj3SLu4"
      }
    },
    {
      "cell_type": "code",
      "source": [
        "data['Response'].value_counts()"
      ],
      "metadata": {
        "id": "TnAmjEV8pqne",
        "colab": {
          "base_uri": "https://localhost:8080/"
        },
        "outputId": "cc9bfe40-37c3-4305-9651-78cfcd48c96b"
      },
      "execution_count": 54,
      "outputs": [
        {
          "output_type": "execute_result",
          "data": {
            "text/plain": [
              "0    334399\n",
              "1     46710\n",
              "Name: Response, dtype: int64"
            ]
          },
          "metadata": {},
          "execution_count": 54
        }
      ]
    },
    {
      "cell_type": "markdown",
      "source": [
        "The two classes of target variable are not balanced. One way to solve this is by increasing the minority class using SMOTE (Synthetic Minority Oversampling Technique).\n",
        "\n",
        "We can first split the dataset to target and independent variables (We can drop 'id' as well itis not meaningful for t)."
      ],
      "metadata": {
        "id": "xdWCfk2WtGcv"
      }
    },
    {
      "cell_type": "code",
      "source": [
        "data.head()"
      ],
      "metadata": {
        "id": "jKHq4G1qvgfx",
        "colab": {
          "base_uri": "https://localhost:8080/",
          "height": 288
        },
        "outputId": "c6412156-5af7-4b7e-a602-a7c148ef810e"
      },
      "execution_count": 55,
      "outputs": [
        {
          "output_type": "execute_result",
          "data": {
            "text/plain": [
              "   id  Gender  Age  Driving_License  Region_Code  Previously_Insured  \\\n",
              "0   1       1   44                1         28.0                   0   \n",
              "1   2       1   76                1          3.0                   0   \n",
              "2   3       1   47                1         28.0                   0   \n",
              "3   4       1   21                1         11.0                   1   \n",
              "4   5       0   29                1         41.0                   1   \n",
              "\n",
              "   Vehicle_Damage  Annual_Premium  Policy_Sales_Channel  Vintage  Response  \\\n",
              "0               1         40454.0                  26.0      217         1   \n",
              "1               0         33536.0                  26.0      183         0   \n",
              "2               1         38294.0                  26.0       27         1   \n",
              "3               0         28619.0                 152.0      203         0   \n",
              "4               0         27496.0                 152.0       39         0   \n",
              "\n",
              "   Vehicle_Age_< 1 Year  Vehicle_Age_> 2 Years  \n",
              "0                     0                      1  \n",
              "1                     0                      0  \n",
              "2                     0                      1  \n",
              "3                     1                      0  \n",
              "4                     1                      0  "
            ],
            "text/html": [
              "\n",
              "  <div id=\"df-cc9e1f51-218c-42f7-a720-7569ebf434da\">\n",
              "    <div class=\"colab-df-container\">\n",
              "      <div>\n",
              "<style scoped>\n",
              "    .dataframe tbody tr th:only-of-type {\n",
              "        vertical-align: middle;\n",
              "    }\n",
              "\n",
              "    .dataframe tbody tr th {\n",
              "        vertical-align: top;\n",
              "    }\n",
              "\n",
              "    .dataframe thead th {\n",
              "        text-align: right;\n",
              "    }\n",
              "</style>\n",
              "<table border=\"1\" class=\"dataframe\">\n",
              "  <thead>\n",
              "    <tr style=\"text-align: right;\">\n",
              "      <th></th>\n",
              "      <th>id</th>\n",
              "      <th>Gender</th>\n",
              "      <th>Age</th>\n",
              "      <th>Driving_License</th>\n",
              "      <th>Region_Code</th>\n",
              "      <th>Previously_Insured</th>\n",
              "      <th>Vehicle_Damage</th>\n",
              "      <th>Annual_Premium</th>\n",
              "      <th>Policy_Sales_Channel</th>\n",
              "      <th>Vintage</th>\n",
              "      <th>Response</th>\n",
              "      <th>Vehicle_Age_&lt; 1 Year</th>\n",
              "      <th>Vehicle_Age_&gt; 2 Years</th>\n",
              "    </tr>\n",
              "  </thead>\n",
              "  <tbody>\n",
              "    <tr>\n",
              "      <th>0</th>\n",
              "      <td>1</td>\n",
              "      <td>1</td>\n",
              "      <td>44</td>\n",
              "      <td>1</td>\n",
              "      <td>28.0</td>\n",
              "      <td>0</td>\n",
              "      <td>1</td>\n",
              "      <td>40454.0</td>\n",
              "      <td>26.0</td>\n",
              "      <td>217</td>\n",
              "      <td>1</td>\n",
              "      <td>0</td>\n",
              "      <td>1</td>\n",
              "    </tr>\n",
              "    <tr>\n",
              "      <th>1</th>\n",
              "      <td>2</td>\n",
              "      <td>1</td>\n",
              "      <td>76</td>\n",
              "      <td>1</td>\n",
              "      <td>3.0</td>\n",
              "      <td>0</td>\n",
              "      <td>0</td>\n",
              "      <td>33536.0</td>\n",
              "      <td>26.0</td>\n",
              "      <td>183</td>\n",
              "      <td>0</td>\n",
              "      <td>0</td>\n",
              "      <td>0</td>\n",
              "    </tr>\n",
              "    <tr>\n",
              "      <th>2</th>\n",
              "      <td>3</td>\n",
              "      <td>1</td>\n",
              "      <td>47</td>\n",
              "      <td>1</td>\n",
              "      <td>28.0</td>\n",
              "      <td>0</td>\n",
              "      <td>1</td>\n",
              "      <td>38294.0</td>\n",
              "      <td>26.0</td>\n",
              "      <td>27</td>\n",
              "      <td>1</td>\n",
              "      <td>0</td>\n",
              "      <td>1</td>\n",
              "    </tr>\n",
              "    <tr>\n",
              "      <th>3</th>\n",
              "      <td>4</td>\n",
              "      <td>1</td>\n",
              "      <td>21</td>\n",
              "      <td>1</td>\n",
              "      <td>11.0</td>\n",
              "      <td>1</td>\n",
              "      <td>0</td>\n",
              "      <td>28619.0</td>\n",
              "      <td>152.0</td>\n",
              "      <td>203</td>\n",
              "      <td>0</td>\n",
              "      <td>1</td>\n",
              "      <td>0</td>\n",
              "    </tr>\n",
              "    <tr>\n",
              "      <th>4</th>\n",
              "      <td>5</td>\n",
              "      <td>0</td>\n",
              "      <td>29</td>\n",
              "      <td>1</td>\n",
              "      <td>41.0</td>\n",
              "      <td>1</td>\n",
              "      <td>0</td>\n",
              "      <td>27496.0</td>\n",
              "      <td>152.0</td>\n",
              "      <td>39</td>\n",
              "      <td>0</td>\n",
              "      <td>1</td>\n",
              "      <td>0</td>\n",
              "    </tr>\n",
              "  </tbody>\n",
              "</table>\n",
              "</div>\n",
              "      <button class=\"colab-df-convert\" onclick=\"convertToInteractive('df-cc9e1f51-218c-42f7-a720-7569ebf434da')\"\n",
              "              title=\"Convert this dataframe to an interactive table.\"\n",
              "              style=\"display:none;\">\n",
              "        \n",
              "  <svg xmlns=\"http://www.w3.org/2000/svg\" height=\"24px\"viewBox=\"0 0 24 24\"\n",
              "       width=\"24px\">\n",
              "    <path d=\"M0 0h24v24H0V0z\" fill=\"none\"/>\n",
              "    <path d=\"M18.56 5.44l.94 2.06.94-2.06 2.06-.94-2.06-.94-.94-2.06-.94 2.06-2.06.94zm-11 1L8.5 8.5l.94-2.06 2.06-.94-2.06-.94L8.5 2.5l-.94 2.06-2.06.94zm10 10l.94 2.06.94-2.06 2.06-.94-2.06-.94-.94-2.06-.94 2.06-2.06.94z\"/><path d=\"M17.41 7.96l-1.37-1.37c-.4-.4-.92-.59-1.43-.59-.52 0-1.04.2-1.43.59L10.3 9.45l-7.72 7.72c-.78.78-.78 2.05 0 2.83L4 21.41c.39.39.9.59 1.41.59.51 0 1.02-.2 1.41-.59l7.78-7.78 2.81-2.81c.8-.78.8-2.07 0-2.86zM5.41 20L4 18.59l7.72-7.72 1.47 1.35L5.41 20z\"/>\n",
              "  </svg>\n",
              "      </button>\n",
              "      \n",
              "  <style>\n",
              "    .colab-df-container {\n",
              "      display:flex;\n",
              "      flex-wrap:wrap;\n",
              "      gap: 12px;\n",
              "    }\n",
              "\n",
              "    .colab-df-convert {\n",
              "      background-color: #E8F0FE;\n",
              "      border: none;\n",
              "      border-radius: 50%;\n",
              "      cursor: pointer;\n",
              "      display: none;\n",
              "      fill: #1967D2;\n",
              "      height: 32px;\n",
              "      padding: 0 0 0 0;\n",
              "      width: 32px;\n",
              "    }\n",
              "\n",
              "    .colab-df-convert:hover {\n",
              "      background-color: #E2EBFA;\n",
              "      box-shadow: 0px 1px 2px rgba(60, 64, 67, 0.3), 0px 1px 3px 1px rgba(60, 64, 67, 0.15);\n",
              "      fill: #174EA6;\n",
              "    }\n",
              "\n",
              "    [theme=dark] .colab-df-convert {\n",
              "      background-color: #3B4455;\n",
              "      fill: #D2E3FC;\n",
              "    }\n",
              "\n",
              "    [theme=dark] .colab-df-convert:hover {\n",
              "      background-color: #434B5C;\n",
              "      box-shadow: 0px 1px 3px 1px rgba(0, 0, 0, 0.15);\n",
              "      filter: drop-shadow(0px 1px 2px rgba(0, 0, 0, 0.3));\n",
              "      fill: #FFFFFF;\n",
              "    }\n",
              "  </style>\n",
              "\n",
              "      <script>\n",
              "        const buttonEl =\n",
              "          document.querySelector('#df-cc9e1f51-218c-42f7-a720-7569ebf434da button.colab-df-convert');\n",
              "        buttonEl.style.display =\n",
              "          google.colab.kernel.accessAllowed ? 'block' : 'none';\n",
              "\n",
              "        async function convertToInteractive(key) {\n",
              "          const element = document.querySelector('#df-cc9e1f51-218c-42f7-a720-7569ebf434da');\n",
              "          const dataTable =\n",
              "            await google.colab.kernel.invokeFunction('convertToInteractive',\n",
              "                                                     [key], {});\n",
              "          if (!dataTable) return;\n",
              "\n",
              "          const docLinkHtml = 'Like what you see? Visit the ' +\n",
              "            '<a target=\"_blank\" href=https://colab.research.google.com/notebooks/data_table.ipynb>data table notebook</a>'\n",
              "            + ' to learn more about interactive tables.';\n",
              "          element.innerHTML = '';\n",
              "          dataTable['output_type'] = 'display_data';\n",
              "          await google.colab.output.renderOutput(dataTable, element);\n",
              "          const docLink = document.createElement('div');\n",
              "          docLink.innerHTML = docLinkHtml;\n",
              "          element.appendChild(docLink);\n",
              "        }\n",
              "      </script>\n",
              "    </div>\n",
              "  </div>\n",
              "  "
            ]
          },
          "metadata": {},
          "execution_count": 55
        }
      ]
    },
    {
      "cell_type": "code",
      "source": [
        "# dataset of independent variables\n",
        "X = data.drop(['Response','id'], axis = 'columns')\n",
        "# target variable data\n",
        "y = data['Response']"
      ],
      "metadata": {
        "id": "HJJgfsTrvdfw"
      },
      "execution_count": 56,
      "outputs": []
    },
    {
      "cell_type": "code",
      "source": [
        "from imblearn.over_sampling import SMOTE\n",
        "# perform smote\n",
        "smote = SMOTE()\n",
        "# resample the dataset to balance it\n",
        "X_new, y_new = smote.fit_resample(X,y)"
      ],
      "metadata": {
        "id": "pulaYE-ju-lY"
      },
      "execution_count": 57,
      "outputs": []
    },
    {
      "cell_type": "code",
      "source": [
        "print('Original Data Response Class Counts')\n",
        "print(y.value_counts())\n",
        "print('Resampled Data Response Class Counts')\n",
        "print(y_new.value_counts())"
      ],
      "metadata": {
        "id": "jYfbBKJRzjkE",
        "colab": {
          "base_uri": "https://localhost:8080/"
        },
        "outputId": "015f447d-3ef9-4b8e-9920-6928e4420873"
      },
      "execution_count": 58,
      "outputs": [
        {
          "output_type": "stream",
          "name": "stdout",
          "text": [
            "Original Data Response Class Counts\n",
            "0    334399\n",
            "1     46710\n",
            "Name: Response, dtype: int64\n",
            "Resampled Data Response Class Counts\n",
            "1    334399\n",
            "0    334399\n",
            "Name: Response, dtype: int64\n"
          ]
        }
      ]
    },
    {
      "cell_type": "code",
      "source": [
        "sns.countplot(y_new,palette='husl')\n",
        "plt.title('Resampled Data Response Class Counts')"
      ],
      "metadata": {
        "id": "fwSLypKszJqp",
        "colab": {
          "base_uri": "https://localhost:8080/",
          "height": 318
        },
        "outputId": "78a2b96f-ce7c-4681-d089-7fb881a7bf37"
      },
      "execution_count": 59,
      "outputs": [
        {
          "output_type": "execute_result",
          "data": {
            "text/plain": [
              "Text(0.5, 1.0, 'Resampled Data Response Class Counts')"
            ]
          },
          "metadata": {},
          "execution_count": 59
        },
        {
          "output_type": "display_data",
          "data": {
            "text/plain": [
              "<Figure size 432x288 with 1 Axes>"
            ],
            "image/png": "[encoded data removed]"
          },
          "metadata": {}
        }
      ]
    },
    {
      "cell_type": "markdown",
      "source": [
        "### **Training and Testing sets**"
      ],
      "metadata": {
        "id": "DNiLUIXq1FOT"
      }
    },
    {
      "cell_type": "markdown",
      "source": [
        "Now that the classes are balanced, we can split the data into training and testing sets."
      ],
      "metadata": {
        "id": "ZkAFyHvU064z"
      }
    },
    {
      "cell_type": "code",
      "source": [
        "# train test splitting\n",
        "X_train, X_test, y_train, y_test = train_test_split(X_new, y_new, test_size = 0.3, random_state = 23)\n",
        "\n",
        "# printing shape\n",
        "print('X_train shape {}'.format(X_train.shape))\n",
        "print('y_train shape {}'.format(y_train.shape))\n",
        "print('X_test shape {}'.format(X_test.shape))\n",
        "print('y_test shape {}'.format(y_test.shape))"
      ],
      "metadata": {
        "id": "KetoQYHYzLhf",
        "colab": {
          "base_uri": "https://localhost:8080/"
        },
        "outputId": "a300d8fd-9d20-41da-effe-fd1f71422052"
      },
      "execution_count": 60,
      "outputs": [
        {
          "output_type": "stream",
          "name": "stdout",
          "text": [
            "X_train shape (468158, 11)\n",
            "y_train shape (468158,)\n",
            "X_test shape (200640, 11)\n",
            "y_test shape (200640,)\n"
          ]
        }
      ]
    },
    {
      "cell_type": "code",
      "source": [
        "# standardising the data\n",
        "from sklearn.preprocessing import StandardScaler\n",
        "\n",
        "scaler = StandardScaler()\n",
        "X_train = scaler.fit_transform(X_train)\n",
        "X_test = scaler.transform(X_test)"
      ],
      "metadata": {
        "id": "_stVB66T2I3K"
      },
      "execution_count": 61,
      "outputs": []
    },
    {
      "cell_type": "markdown",
      "source": [
        "### **Model Selection**\n",
        "#### This is a Binary Classification problem (whether customer would be interested in vehicle insurance or not)\n",
        "#### Dataset has more than 300k records\n",
        "#### cannot go with SVM Classifier as it takes more time to train as dataset increase\n",
        "\n",
        "#### We can use different models like:\n",
        "\n",
        "#### **1. Logistic Regression**\n",
        "#### **2. Random Forest**\n",
        "#### **3. XGBClassifier**"
      ],
      "metadata": {
        "id": "OweqE4fj3xjl"
      }
    },
    {
      "cell_type": "markdown",
      "source": [
        "### **Logistic Regression**"
      ],
      "metadata": {
        "id": "iRCmpjwW3zfY"
      }
    },
    {
      "cell_type": "markdown",
      "source": [
        "We can fit the Logistic Regression model from Scikit-learn."
      ],
      "metadata": {
        "id": "xf7L5q8o8DqB"
      }
    },
    {
      "cell_type": "code",
      "source": [
        "from sklearn.linear_model import LogisticRegression\n",
        "\n",
        "clf = LogisticRegression(max_iter = 10000)\n",
        "clf.fit(X_train, y_train)"
      ],
      "metadata": {
        "id": "boh5COR93xT3",
        "colab": {
          "base_uri": "https://localhost:8080/"
        },
        "outputId": "c3d43ccf-dba4-4ed8-dc2b-ee5b90f3b432"
      },
      "execution_count": 62,
      "outputs": [
        {
          "output_type": "execute_result",
          "data": {
            "text/plain": [
              "LogisticRegression(max_iter=10000)"
            ]
          },
          "metadata": {},
          "execution_count": 62
        }
      ]
    },
    {
      "cell_type": "code",
      "source": [
        "print('Intercept {}'.format(clf.intercept_))\n",
        "print('\\n')\n",
        "print('Coefficients {}'.format(clf.coef_))"
      ],
      "metadata": {
        "id": "jX3xVyyI6oFK",
        "colab": {
          "base_uri": "https://localhost:8080/"
        },
        "outputId": "02295ff4-36ca-4b0d-eb20-4814fbdb4ba9"
      },
      "execution_count": 63,
      "outputs": [
        {
          "output_type": "stream",
          "name": "stdout",
          "text": [
            "Intercept [-1.3117559]\n",
            "\n",
            "\n",
            "Coefficients [[-3.52300032e-01 -5.83202891e-01  1.73338082e-02 -5.56262643e-04\n",
            "  -2.70993968e+00  6.12208632e-01  5.47894435e-02 -1.36790773e-01\n",
            "  -5.11361738e-03 -1.13660313e+00 -1.77128713e-01]]\n"
          ]
        }
      ]
    },
    {
      "cell_type": "code",
      "source": [
        "# class prediction on training and testing datasets\n",
        "y_pred_lr = clf.predict(X_test)\n",
        "y_train_pred_lr = clf.predict(X_train)\n",
        "\n",
        "# probability prediction on training and testing datasets (only using probabilities of positive class)\n",
        "y_prob_lr = clf.predict_proba(X_test)[:,1]\n",
        "y_train_prob_lr = clf.predict_proba(X_train)[:,1]"
      ],
      "metadata": {
        "id": "E7KHPtKV7HW5"
      },
      "execution_count": 64,
      "outputs": []
    },
    {
      "cell_type": "code",
      "source": [
        "y_pred_lr"
      ],
      "metadata": {
        "id": "QlkoEGoR75Fn",
        "colab": {
          "base_uri": "https://localhost:8080/"
        },
        "outputId": "ed458c50-97bc-4146-8d99-3f590a402a46"
      },
      "execution_count": 65,
      "outputs": [
        {
          "output_type": "execute_result",
          "data": {
            "text/plain": [
              "array([1, 0, 1, ..., 0, 1, 1])"
            ]
          },
          "metadata": {},
          "execution_count": 65
        }
      ]
    },
    {
      "cell_type": "code",
      "source": [
        "y_prob_lr"
      ],
      "metadata": {
        "id": "Up6MYF4Q77Oi",
        "colab": {
          "base_uri": "https://localhost:8080/"
        },
        "outputId": "cc896109-54ef-4853-87cd-ccc96eddc7dd"
      },
      "execution_count": 66,
      "outputs": [
        {
          "output_type": "execute_result",
          "data": {
            "text/plain": [
              "array([7.66349598e-01, 4.35803205e-04, 6.73883195e-01, ...,\n",
              "       3.31852148e-04, 7.04588756e-01, 9.27593466e-01])"
            ]
          },
          "metadata": {},
          "execution_count": 66
        }
      ]
    },
    {
      "cell_type": "markdown",
      "source": [
        "**Model Performance**"
      ],
      "metadata": {
        "id": "I6pUQhsYFlN8"
      }
    },
    {
      "cell_type": "markdown",
      "source": [
        "The model can be evaluated using several metrics."
      ],
      "metadata": {
        "id": "WDKQh6mg8Lrv"
      }
    },
    {
      "cell_type": "code",
      "source": [
        "from sklearn.metrics import accuracy_score, f1_score, precision_score, recall_score, roc_auc_score\n",
        "\n",
        "# model performance on testing data\n",
        "test_accuracy_lr = accuracy_score(y_test, y_pred_lr)\n",
        "test_precision_lr = precision_score(y_test, y_pred_lr)\n",
        "test_recall_lr = recall_score(y_test, y_pred_lr)\n",
        "test_f1_lr = f1_score(y_test, y_pred_lr)\n",
        "# area under roc curve\n",
        "test_roc_auc_score = roc_auc_score(y_test, y_prob_lr)\n",
        "\n",
        "#model performance on training data\n",
        "train_accuracy_lr = accuracy_score(y_train, y_train_pred_lr)\n",
        "train_precision_lr = precision_score(y_train, y_train_pred_lr)\n",
        "train_recall_lr = recall_score(y_train, y_train_pred_lr)\n",
        "train_f1_lr = f1_score(y_train, y_train_pred_lr)\n",
        "# area under roc curve\n",
        "train_roc_auc_score = roc_auc_score(y_train, y_train_prob_lr)"
      ],
      "metadata": {
        "id": "oUX7I2mh794E"
      },
      "execution_count": 67,
      "outputs": []
    },
    {
      "cell_type": "code",
      "source": [
        "#print performance metrics of testing data\n",
        "print('Testing Data Performance')\n",
        "print(\"Accuracy : \", test_accuracy_lr)\n",
        "print(\"Precision:\", test_precision_lr)\n",
        "print(\"Recall:\", test_recall_lr)\n",
        "print(\"F1-Score:\", test_f1_lr)\n",
        "print(\"Area Under the ROC Curve:\", test_roc_auc_score)"
      ],
      "metadata": {
        "id": "g7EYYiThEmRh",
        "colab": {
          "base_uri": "https://localhost:8080/"
        },
        "outputId": "5167d1c3-90d3-4756-c5fc-78f8050ebed0"
      },
      "execution_count": 68,
      "outputs": [
        {
          "output_type": "stream",
          "name": "stdout",
          "text": [
            "Testing Data Performance\n",
            "Accuracy :  0.813222687400319\n",
            "Precision: 0.7679195468099832\n",
            "Recall: 0.8970635205813071\n",
            "F1-Score: 0.8274830245137531\n",
            "Area Under the ROC Curve: 0.8823178977200241\n"
          ]
        }
      ]
    },
    {
      "cell_type": "code",
      "source": [
        "#print performance metrics of training data\n",
        "print('Training Data Performance')\n",
        "print(\"Accuracy : \", train_accuracy_lr)\n",
        "print(\"Precision:\", train_precision_lr)\n",
        "print(\"Recall:\", train_recall_lr)\n",
        "print(\"F1-Score:\", train_f1_lr)\n",
        "print(\"Area Under the ROC Curve:\", train_roc_auc_score)"
      ],
      "metadata": {
        "id": "ViTRARzDFS0V",
        "colab": {
          "base_uri": "https://localhost:8080/"
        },
        "outputId": "25881ff6-5598-427a-c7b9-1ea786aaf209"
      },
      "execution_count": 69,
      "outputs": [
        {
          "output_type": "stream",
          "name": "stdout",
          "text": [
            "Training Data Performance\n",
            "Accuracy :  0.8119096544329051\n",
            "Precision: 0.7676311924791158\n",
            "Recall: 0.894936616982123\n",
            "F1-Score: 0.8264099167297502\n",
            "Area Under the ROC Curve: 0.8805509269729157\n"
          ]
        }
      ]
    },
    {
      "cell_type": "markdown",
      "source": [
        "**Classification Report**"
      ],
      "metadata": {
        "id": "ws4MPVaYvlHj"
      }
    },
    {
      "cell_type": "markdown",
      "source": [
        "Report of main classification metrics."
      ],
      "metadata": {
        "id": "TRom1YgcwNgs"
      }
    },
    {
      "cell_type": "code",
      "source": [
        "print('Testing Data')\n",
        "print(classification_report(y_test, y_pred_lr))\n",
        "print('Training Data')\n",
        "print(classification_report(y_train, y_train_pred_lr))"
      ],
      "metadata": {
        "id": "FxPfJoi5vodk",
        "colab": {
          "base_uri": "https://localhost:8080/"
        },
        "outputId": "df4a177b-3e2d-4d30-f93d-d02376c10342"
      },
      "execution_count": 70,
      "outputs": [
        {
          "output_type": "stream",
          "name": "stdout",
          "text": [
            "Testing Data\n",
            "              precision    recall  f1-score   support\n",
            "\n",
            "           0       0.88      0.73      0.80    100452\n",
            "           1       0.77      0.90      0.83    100188\n",
            "\n",
            "    accuracy                           0.81    200640\n",
            "   macro avg       0.82      0.81      0.81    200640\n",
            "weighted avg       0.82      0.81      0.81    200640\n",
            "\n",
            "Training Data\n",
            "              precision    recall  f1-score   support\n",
            "\n",
            "           0       0.87      0.73      0.79    233947\n",
            "           1       0.77      0.89      0.83    234211\n",
            "\n",
            "    accuracy                           0.81    468158\n",
            "   macro avg       0.82      0.81      0.81    468158\n",
            "weighted avg       0.82      0.81      0.81    468158\n",
            "\n"
          ]
        }
      ]
    },
    {
      "cell_type": "markdown",
      "source": [
        "**Receiver operating characteristic (ROC) curve**"
      ],
      "metadata": {
        "id": "V3EKQ4grwZQS"
      }
    },
    {
      "cell_type": "code",
      "source": [
        "from sklearn.metrics import roc_curve\n",
        "# Receiver operating characteristic (ROC) for testing data\n",
        "fpr, tpr, thresholds = roc_curve(y_test, y_prob_lr)\n",
        "# plot ROC curve\n",
        "plt.title('Logistic Regression ROC Curve (Testing)')\n",
        "plt.xlabel('FPR')\n",
        "plt.ylabel('TPR')\n",
        "plt.plot(fpr,tpr)\n",
        "plt.plot((0,1), ls = 'dashed', color = 'black')\n",
        "plt.show()"
      ],
      "metadata": {
        "id": "cqmyT0o5WClP",
        "colab": {
          "base_uri": "https://localhost:8080/",
          "height": 301
        },
        "outputId": "2c28efb1-67d0-482b-f51e-96f235096ceb"
      },
      "execution_count": 71,
      "outputs": [
        {
          "output_type": "display_data",
          "data": {
            "text/plain": [
              "<Figure size 432x288 with 1 Axes>"
            ],
            "image/png": "[encoded data removed]"
          },
          "metadata": {}
        }
      ]
    },
    {
      "cell_type": "code",
      "source": [
        "# Receiver operating characteristic (ROC) for training data\n",
        "fpr, tpr, thresholds = roc_curve(y_train, y_train_prob_lr)\n",
        "# plot ROC curve\n",
        "plt.title('Logistic Regression ROC Curve (Training)')\n",
        "plt.xlabel('FPR')\n",
        "plt.ylabel('TPR')\n",
        "plt.plot(fpr,tpr)\n",
        "plt.plot((0,1), ls = 'dashed', color = 'black')\n",
        "plt.show()"
      ],
      "metadata": {
        "id": "R6rXo2RBXLWG",
        "colab": {
          "base_uri": "https://localhost:8080/",
          "height": 301
        },
        "outputId": "f932bc90-c1be-45de-bd48-b410c845a502"
      },
      "execution_count": 72,
      "outputs": [
        {
          "output_type": "display_data",
          "data": {
            "text/plain": [
              "<Figure size 432x288 with 1 Axes>"
            ],
            "image/png": "[encoded data removed]"
          },
          "metadata": {}
        }
      ]
    },
    {
      "cell_type": "markdown",
      "source": [
        "**Confusion Matrix**"
      ],
      "metadata": {
        "id": "1dvv1dhwwTm1"
      }
    },
    {
      "cell_type": "code",
      "source": [
        "# confusion matrix for testing set\n",
        "cm_test_lr = confusion_matrix(y_test, y_pred_lr)\n",
        "print(cm_test_lr)\n",
        "\n",
        "ax = plt.subplot()\n",
        "sns.heatmap(cm_test_lr, annot = True, cmap = 'BuPu', ax = ax)\n",
        "\n",
        "labels = ['Not Interested', 'Interested']\n",
        "ax.set_xlabel('Predicted labels')\n",
        "ax.set_ylabel('True labels')\n",
        "ax.set_title('Confusion Matrix (Testing)')\n",
        "ax.xaxis.set_ticklabels(labels)\n",
        "ax.yaxis.set_ticklabels(labels)"
      ],
      "metadata": {
        "id": "Tdgdljyis1Us",
        "colab": {
          "base_uri": "https://localhost:8080/",
          "height": 353
        },
        "outputId": "7a8f3684-fc3d-44c5-80ea-2414fd65fe14"
      },
      "execution_count": 73,
      "outputs": [
        {
          "output_type": "stream",
          "name": "stdout",
          "text": [
            "[[73290 27162]\n",
            " [10313 89875]]\n"
          ]
        },
        {
          "output_type": "execute_result",
          "data": {
            "text/plain": [
              "[Text(0, 0.5, 'Not Interested'), Text(0, 1.5, 'Interested')]"
            ]
          },
          "metadata": {},
          "execution_count": 73
        },
        {
          "output_type": "display_data",
          "data": {
            "text/plain": [
              "<Figure size 432x288 with 2 Axes>"
            ],
            "image/png": "[encoded data removed]"
          },
          "metadata": {}
        }
      ]
    },
    {
      "cell_type": "code",
      "source": [
        "# confusion matrix for training set\n",
        "cm_train_lr = confusion_matrix(y_train, y_train_pred_lr)\n",
        "print(cm_train_lr)\n",
        "\n",
        "ax = plt.subplot()\n",
        "sns.heatmap(cm_train_lr, annot = True, cmap = 'BuPu', ax = ax)\n",
        "\n",
        "labels = ['Not Interested', 'Interested']\n",
        "ax.set_xlabel('Predicted labels')\n",
        "ax.set_ylabel('True labels')\n",
        "ax.set_title('Confusion Matrix (Training)')\n",
        "ax.xaxis.set_ticklabels(labels)\n",
        "ax.yaxis.set_ticklabels(labels)"
      ],
      "metadata": {
        "id": "TD_ND18QugnO",
        "colab": {
          "base_uri": "https://localhost:8080/",
          "height": 353
        },
        "outputId": "5cf42fc7-b6ba-4d78-ecc8-ed8c523b6094"
      },
      "execution_count": 74,
      "outputs": [
        {
          "output_type": "stream",
          "name": "stdout",
          "text": [
            "[[170498  63449]\n",
            " [ 24607 209604]]\n"
          ]
        },
        {
          "output_type": "execute_result",
          "data": {
            "text/plain": [
              "[Text(0, 0.5, 'Not Interested'), Text(0, 1.5, 'Interested')]"
            ]
          },
          "metadata": {},
          "execution_count": 74
        },
        {
          "output_type": "display_data",
          "data": {
            "text/plain": [
              "<Figure size 432x288 with 2 Axes>"
            ],
            "image/png": "[encoded data removed]"
          },
          "metadata": {}
        }
      ]
    },
    {
      "cell_type": "markdown",
      "source": [
        "###**Random Forest Classifier**"
      ],
      "metadata": {
        "id": "ZSE26vXZTClF"
      }
    },
    {
      "cell_type": "markdown",
      "source": [
        "Next we can build a Random Forest classifier."
      ],
      "metadata": {
        "id": "7GiG7J6QTGTA"
      }
    },
    {
      "cell_type": "code",
      "source": [
        "from sklearn.ensemble import RandomForestClassifier\n",
        "\n",
        "randomforest = RandomForestClassifier()\n",
        "randomforest.fit(X_train, y_train)"
      ],
      "metadata": {
        "id": "KvU5cBIgTZh9",
        "colab": {
          "base_uri": "https://localhost:8080/"
        },
        "outputId": "674bf359-0cc0-4f2f-ea16-54b8644fa92d"
      },
      "execution_count": 75,
      "outputs": [
        {
          "output_type": "execute_result",
          "data": {
            "text/plain": [
              "RandomForestClassifier()"
            ]
          },
          "metadata": {},
          "execution_count": 75
        }
      ]
    },
    {
      "cell_type": "code",
      "source": [
        "# class predictions\n",
        "y_pred_rf = randomforest.predict(X_test)\n",
        "y_train_pred_rf = randomforest.predict(X_train)\n",
        "\n",
        "# probability predictions (only of positive outcomes)\n",
        "y_prob_rf = randomforest.predict_proba(X_test)[:,1]\n",
        "y_train_prob_rf = randomforest.predict_proba(X_train)[:,1]"
      ],
      "metadata": {
        "id": "3byvr-ktUypI"
      },
      "execution_count": 76,
      "outputs": []
    },
    {
      "cell_type": "markdown",
      "source": [
        "**Model Performance**"
      ],
      "metadata": {
        "id": "R00Q5xt5Vup-"
      }
    },
    {
      "cell_type": "code",
      "source": [
        "# model performance on testing data\n",
        "test_accuracy_rf = accuracy_score(y_test, y_pred_rf)\n",
        "test_precision_rf = precision_score(y_test, y_pred_rf)\n",
        "test_recall_rf = recall_score(y_test, y_pred_rf)\n",
        "test_f1_rf = f1_score(y_test, y_pred_rf)\n",
        "# area under roc curve\n",
        "test_roc_auc_score_rf = roc_auc_score(y_test, y_prob_rf)\n",
        "\n",
        "#model performance on training data\n",
        "train_accuracy_rf = accuracy_score(y_train, y_train_pred_rf)\n",
        "train_precision_rf = precision_score(y_train, y_train_pred_rf)\n",
        "train_recall_rf = recall_score(y_train, y_train_pred_rf)\n",
        "train_f1_rf = f1_score(y_train, y_train_pred_rf)\n",
        "# area under roc curve\n",
        "train_roc_auc_score_rf = roc_auc_score(y_train, y_train_prob_rf)"
      ],
      "metadata": {
        "id": "TH_wbisYVeIk"
      },
      "execution_count": 77,
      "outputs": []
    },
    {
      "cell_type": "code",
      "source": [
        "#print performance metrics of testing data\n",
        "print('Testing Data Performance')\n",
        "print(\"Accuracy : \", test_accuracy_rf)\n",
        "print(\"Precision:\", test_precision_rf)\n",
        "print(\"Recall:\", test_recall_rf)\n",
        "print(\"F1-Score:\", test_f1_rf)\n",
        "print(\"Area Under the ROC Curve:\", test_roc_auc_score_rf)"
      ],
      "metadata": {
        "id": "SFzqLZ8zWKRO",
        "colab": {
          "base_uri": "https://localhost:8080/"
        },
        "outputId": "1d78a64f-773f-4fff-c992-a805cf7dad3a"
      },
      "execution_count": 78,
      "outputs": [
        {
          "output_type": "stream",
          "name": "stdout",
          "text": [
            "Testing Data Performance\n",
            "Accuracy :  0.8837968500797448\n",
            "Precision: 0.8638338555323116\n",
            "Recall: 0.9108675689703357\n",
            "F1-Score: 0.886727460878099\n",
            "Area Under the ROC Curve: 0.9613744769219444\n"
          ]
        }
      ]
    },
    {
      "cell_type": "code",
      "source": [
        "#print performance metrics of training data\n",
        "print('Training Data Performance')\n",
        "print(\"Accuracy : \", train_accuracy_rf)\n",
        "print(\"Precision:\", train_precision_rf)\n",
        "print(\"Recall:\", train_recall_rf)\n",
        "print(\"F1-Score:\", train_f1_rf)\n",
        "print(\"Area Under the ROC Curve:\", train_roc_auc_score_rf)"
      ],
      "metadata": {
        "id": "Jy7FaQvzWUtG",
        "colab": {
          "base_uri": "https://localhost:8080/"
        },
        "outputId": "30fa2d3b-0221-4f14-962b-5cef88834a02"
      },
      "execution_count": 79,
      "outputs": [
        {
          "output_type": "stream",
          "name": "stdout",
          "text": [
            "Training Data Performance\n",
            "Accuracy :  0.9998077572101727\n",
            "Precision: 0.9996969218357146\n",
            "Recall: 0.9999188765685643\n",
            "F1-Score: 0.9998078868837972\n",
            "Area Under the ROC Curve: 0.9999969046023891\n"
          ]
        }
      ]
    },
    {
      "cell_type": "markdown",
      "source": [
        "**Classification Report**"
      ],
      "metadata": {
        "id": "YvJsRSEjXKAD"
      }
    },
    {
      "cell_type": "code",
      "source": [
        "print('Testing Data')\n",
        "print(classification_report(y_test, y_pred_rf))\n",
        "print('Training Data')\n",
        "print(classification_report(y_train, y_train_pred_rf))"
      ],
      "metadata": {
        "id": "D832ILmGW-r5",
        "colab": {
          "base_uri": "https://localhost:8080/"
        },
        "outputId": "88dd1221-ef22-4049-a28c-dbe44a714615"
      },
      "execution_count": 80,
      "outputs": [
        {
          "output_type": "stream",
          "name": "stdout",
          "text": [
            "Testing Data\n",
            "              precision    recall  f1-score   support\n",
            "\n",
            "           0       0.91      0.86      0.88    100452\n",
            "           1       0.86      0.91      0.89    100188\n",
            "\n",
            "    accuracy                           0.88    200640\n",
            "   macro avg       0.88      0.88      0.88    200640\n",
            "weighted avg       0.88      0.88      0.88    200640\n",
            "\n",
            "Training Data\n",
            "              precision    recall  f1-score   support\n",
            "\n",
            "           0       1.00      1.00      1.00    233947\n",
            "           1       1.00      1.00      1.00    234211\n",
            "\n",
            "    accuracy                           1.00    468158\n",
            "   macro avg       1.00      1.00      1.00    468158\n",
            "weighted avg       1.00      1.00      1.00    468158\n",
            "\n"
          ]
        }
      ]
    },
    {
      "cell_type": "markdown",
      "source": [
        "**Receiver operating characteristic (ROC) Curve**"
      ],
      "metadata": {
        "id": "4wIJjPeCXtsH"
      }
    },
    {
      "cell_type": "code",
      "source": [
        "# Receiver operating characteristic (ROC) for testing data\n",
        "fpr, tpr, thresholds = roc_curve(y_test, y_prob_rf)\n",
        "# plot ROC curve\n",
        "plt.title('Random Forest Classifier ROC Curve (Testing)')\n",
        "plt.xlabel('FPR')\n",
        "plt.ylabel('TPR')\n",
        "plt.plot(fpr,tpr)\n",
        "plt.plot((0,1), ls = 'dashed', color = 'black')\n",
        "plt.show()"
      ],
      "metadata": {
        "id": "hm9QLPb9XRlY",
        "colab": {
          "base_uri": "https://localhost:8080/",
          "height": 301
        },
        "outputId": "bf5cc8ca-c869-48fb-92a6-7ff04df32267"
      },
      "execution_count": 81,
      "outputs": [
        {
          "output_type": "display_data",
          "data": {
            "text/plain": [
              "<Figure size 432x288 with 1 Axes>"
            ],
            "image/png": "[encoded data removed]"
          },
          "metadata": {}
        }
      ]
    },
    {
      "cell_type": "code",
      "source": [
        "# Receiver operating characteristic (ROC) for training data\n",
        "fpr, tpr, thresholds = roc_curve(y_train, y_train_prob_rf)\n",
        "# plot ROC curve\n",
        "plt.title('Random Forest Classifier ROC Curve (Training)')\n",
        "plt.xlabel('FPR')\n",
        "plt.ylabel('TPR')\n",
        "plt.plot(fpr,tpr)\n",
        "plt.plot((0,1), ls = 'dashed', color = 'black')\n",
        "plt.show()"
      ],
      "metadata": {
        "id": "Vsf6vofOX5Cn",
        "colab": {
          "base_uri": "https://localhost:8080/",
          "height": 301
        },
        "outputId": "28ae8761-5b73-45ab-dbe5-728606169912"
      },
      "execution_count": 82,
      "outputs": [
        {
          "output_type": "display_data",
          "data": {
            "text/plain": [
              "<Figure size 432x288 with 1 Axes>"
            ],
            "image/png": "[encoded data removed]"
          },
          "metadata": {}
        }
      ]
    },
    {
      "cell_type": "markdown",
      "source": [
        "**Confusion Matrix**"
      ],
      "metadata": {
        "id": "xwVcGl4rYyfI"
      }
    },
    {
      "cell_type": "code",
      "source": [
        "# confusion matrix for testing set\n",
        "cm_test_rf = confusion_matrix(y_test, y_pred_rf)\n",
        "print(cm_test_rf)\n",
        "\n",
        "ax = plt.subplot()\n",
        "sns.heatmap(cm_test_rf, annot = True, cmap = 'BuPu', ax = ax)\n",
        "\n",
        "labels = ['Not Interested', 'Interested']\n",
        "ax.set_xlabel('Predicted labels')\n",
        "ax.set_ylabel('True labels')\n",
        "ax.set_title('Confusion Matrix (Testing)')\n",
        "ax.xaxis.set_ticklabels(labels)\n",
        "ax.yaxis.set_ticklabels(labels)"
      ],
      "metadata": {
        "id": "VsKZvSL5Yfqd",
        "colab": {
          "base_uri": "https://localhost:8080/",
          "height": 353
        },
        "outputId": "a524aa58-b617-454c-9548-ed8d763125a9"
      },
      "execution_count": 83,
      "outputs": [
        {
          "output_type": "stream",
          "name": "stdout",
          "text": [
            "[[86067 14385]\n",
            " [ 8930 91258]]\n"
          ]
        },
        {
          "output_type": "execute_result",
          "data": {
            "text/plain": [
              "[Text(0, 0.5, 'Not Interested'), Text(0, 1.5, 'Interested')]"
            ]
          },
          "metadata": {},
          "execution_count": 83
        },
        {
          "output_type": "display_data",
          "data": {
            "text/plain": [
              "<Figure size 432x288 with 2 Axes>"
            ],
            "image/png": "[encoded data removed]"
          },
          "metadata": {}
        }
      ]
    },
    {
      "cell_type": "code",
      "source": [
        "# confusion matrix for testing set\n",
        "cm_train_rf = confusion_matrix(y_train, y_train_pred_rf)\n",
        "print(cm_train_rf)\n",
        "\n",
        "ax = plt.subplot()\n",
        "sns.heatmap(cm_train_rf, annot = True, cmap = 'BuPu', ax = ax)\n",
        "\n",
        "labels = ['Not Interested', 'Interested']\n",
        "ax.set_xlabel('Predicted labels')\n",
        "ax.set_ylabel('True labels')\n",
        "ax.set_title('Confusion Matrix (Testing)')\n",
        "ax.xaxis.set_ticklabels(labels)\n",
        "ax.yaxis.set_ticklabels(labels)"
      ],
      "metadata": {
        "id": "YJpGXNnJYpSa",
        "colab": {
          "base_uri": "https://localhost:8080/",
          "height": 353
        },
        "outputId": "b4ca4f09-c3b1-48a6-b9fa-c1be38200e96"
      },
      "execution_count": 84,
      "outputs": [
        {
          "output_type": "stream",
          "name": "stdout",
          "text": [
            "[[233876     71]\n",
            " [    19 234192]]\n"
          ]
        },
        {
          "output_type": "execute_result",
          "data": {
            "text/plain": [
              "[Text(0, 0.5, 'Not Interested'), Text(0, 1.5, 'Interested')]"
            ]
          },
          "metadata": {},
          "execution_count": 84
        },
        {
          "output_type": "display_data",
          "data": {
            "text/plain": [
              "<Figure size 432x288 with 2 Axes>"
            ],
            "image/png": "[encoded data removed]"
          },
          "metadata": {}
        }
      ]
    },
    {
      "cell_type": "markdown",
      "source": [
        "### **XGBoost Classifier**"
      ],
      "metadata": {
        "id": "N7PJBxlR6Qvs"
      }
    },
    {
      "cell_type": "code",
      "source": [
        "from xgboost import XGBClassifier\n",
        "xgb = XGBClassifier(random_state = 12, use_label_encoder = False)\n",
        "# fitting the model\n",
        "xgb.fit(X_train, y_train)"
      ],
      "metadata": {
        "id": "yhBrwY7_6Yg4",
        "colab": {
          "base_uri": "https://localhost:8080/"
        },
        "outputId": "e68991a7-a93c-4f88-fdab-86cb7d354e6c"
      },
      "execution_count": 85,
      "outputs": [
        {
          "output_type": "execute_result",
          "data": {
            "text/plain": [
              "XGBClassifier(random_state=12, use_label_encoder=False)"
            ]
          },
          "metadata": {},
          "execution_count": 85
        }
      ]
    },
    {
      "cell_type": "code",
      "source": [
        "# class predictions\n",
        "y_pred_xgb = xgb.predict(X_test)\n",
        "y_train_pred_xgb = xgb.predict(X_train)\n",
        "\n",
        "# probability estimates\n",
        "y_prob_xgb = xgb.predict_proba(X_test)[:,1]\n",
        "y_train_prob_xgb = xgb.predict_proba(X_train)[:,1]"
      ],
      "metadata": {
        "id": "BrXEllAt63Lc"
      },
      "execution_count": 86,
      "outputs": []
    },
    {
      "cell_type": "markdown",
      "source": [
        "**Model Performance**"
      ],
      "metadata": {
        "id": "rp6HdS4u-H2v"
      }
    },
    {
      "cell_type": "code",
      "source": [
        "# model performance on testing data\n",
        "test_accuracy_xgb = accuracy_score(y_test, y_pred_xgb)\n",
        "test_precision_xgb = precision_score(y_test, y_pred_xgb)\n",
        "test_recall_xgb = recall_score(y_test, y_pred_xgb)\n",
        "test_f1_xgb = f1_score(y_test, y_pred_xgb)\n",
        "# area under roc curve\n",
        "test_roc_auc_score_xgb = roc_auc_score(y_test, y_prob_xgb)\n",
        "\n",
        "#model performance on training data\n",
        "train_accuracy_xgb = accuracy_score(y_train, y_train_pred_xgb)\n",
        "train_precision_xgb = precision_score(y_train, y_train_pred_xgb)\n",
        "train_recall_xgb = recall_score(y_train, y_train_pred_xgb)\n",
        "train_f1_xgb = f1_score(y_train, y_train_pred_xgb)\n",
        "# area under roc curve\n",
        "train_roc_auc_score_xgb = roc_auc_score(y_train, y_train_prob_xgb)"
      ],
      "metadata": {
        "id": "Ra08IjlT9xSm"
      },
      "execution_count": 87,
      "outputs": []
    },
    {
      "cell_type": "code",
      "source": [
        "#print performance metrics of testing data\n",
        "print('Testing Data Performance')\n",
        "print(\"Accuracy : \", test_accuracy_xgb)\n",
        "print(\"Precision:\", test_precision_xgb)\n",
        "print(\"Recall:\", test_recall_xgb)\n",
        "print(\"F1-Score:\", test_f1_xgb)\n",
        "print(\"Area Under the ROC Curve:\", test_roc_auc_score_xgb)"
      ],
      "metadata": {
        "id": "MeV9lo2C-iWl",
        "colab": {
          "base_uri": "https://localhost:8080/"
        },
        "outputId": "dae4aca6-6852-4a8a-e11b-b351cc77a68e"
      },
      "execution_count": 88,
      "outputs": [
        {
          "output_type": "stream",
          "name": "stdout",
          "text": [
            "Testing Data Performance\n",
            "Accuracy :  0.8409639154704944\n",
            "Precision: 0.790240170031881\n",
            "Recall: 0.9277757815307223\n",
            "F1-Score: 0.8535027753164411\n",
            "Area Under the ROC Curve: 0.9271339667988907\n"
          ]
        }
      ]
    },
    {
      "cell_type": "code",
      "source": [
        "#print performance metrics of training data\n",
        "print('Training Data Performance')\n",
        "print(\"Accuracy : \", train_accuracy_xgb)\n",
        "print(\"Precision:\", train_precision_xgb)\n",
        "print(\"Recall:\", train_recall_xgb)\n",
        "print(\"F1-Score:\", train_f1_xgb)\n",
        "print(\"Area Under the ROC Curve:\", train_roc_auc_score_xgb)"
      ],
      "metadata": {
        "id": "2FL3d7QS-u8Y",
        "colab": {
          "base_uri": "https://localhost:8080/"
        },
        "outputId": "3cd1bccb-a373-4207-d192-ea2f7a6a51c8"
      },
      "execution_count": 89,
      "outputs": [
        {
          "output_type": "stream",
          "name": "stdout",
          "text": [
            "Training Data Performance\n",
            "Accuracy :  0.839883116383785\n",
            "Precision: 0.7901095577974766\n",
            "Recall: 0.9259129588277237\n",
            "F1-Score: 0.8526376214422484\n",
            "Area Under the ROC Curve: 0.9255754056142412\n"
          ]
        }
      ]
    },
    {
      "cell_type": "markdown",
      "source": [
        "**Classification Report**"
      ],
      "metadata": {
        "id": "3lyQ2rFv_PB3"
      }
    },
    {
      "cell_type": "code",
      "source": [
        "print('Testing Data')\n",
        "print(classification_report(y_test, y_pred_xgb))\n",
        "print('Training Data')\n",
        "print(classification_report(y_train, y_train_pred_xgb))"
      ],
      "metadata": {
        "id": "V9Oa_WK8_I_4",
        "colab": {
          "base_uri": "https://localhost:8080/"
        },
        "outputId": "a1ecc021-2813-43e5-ffd8-fc5e9c0f3252"
      },
      "execution_count": 90,
      "outputs": [
        {
          "output_type": "stream",
          "name": "stdout",
          "text": [
            "Testing Data\n",
            "              precision    recall  f1-score   support\n",
            "\n",
            "           0       0.91      0.75      0.83    100452\n",
            "           1       0.79      0.93      0.85    100188\n",
            "\n",
            "    accuracy                           0.84    200640\n",
            "   macro avg       0.85      0.84      0.84    200640\n",
            "weighted avg       0.85      0.84      0.84    200640\n",
            "\n",
            "Training Data\n",
            "              precision    recall  f1-score   support\n",
            "\n",
            "           0       0.91      0.75      0.82    233947\n",
            "           1       0.79      0.93      0.85    234211\n",
            "\n",
            "    accuracy                           0.84    468158\n",
            "   macro avg       0.85      0.84      0.84    468158\n",
            "weighted avg       0.85      0.84      0.84    468158\n",
            "\n"
          ]
        }
      ]
    },
    {
      "cell_type": "markdown",
      "source": [
        "**Receiver operating characteristic (ROC) Curve**"
      ],
      "metadata": {
        "id": "fcOIstNN_SWA"
      }
    },
    {
      "cell_type": "code",
      "source": [
        "# Receiver operating characteristic (ROC) for testing data\n",
        "fpr, tpr, thresholds = roc_curve(y_test, y_prob_xgb)\n",
        "# plot ROC curve\n",
        "plt.title('XGBoost Classifier ROC Curve (Testing)')\n",
        "plt.xlabel('FPR')\n",
        "plt.ylabel('TPR')\n",
        "plt.plot(fpr,tpr)\n",
        "plt.plot((0,1), ls = 'dashed', color = 'black')\n",
        "plt.show()"
      ],
      "metadata": {
        "id": "Ob-BGIOw_WE0",
        "colab": {
          "base_uri": "https://localhost:8080/",
          "height": 301
        },
        "outputId": "dfcc4f33-9ba1-4f17-f38a-a07febb94d0a"
      },
      "execution_count": 91,
      "outputs": [
        {
          "output_type": "display_data",
          "data": {
            "text/plain": [
              "<Figure size 432x288 with 1 Axes>"
            ],
            "image/png": "[encoded data removed]"
          },
          "metadata": {}
        }
      ]
    },
    {
      "cell_type": "code",
      "source": [
        "# Receiver operating characteristic (ROC) for training data\n",
        "fpr, tpr, thresholds = roc_curve(y_train, y_train_prob_xgb)\n",
        "# plot ROC curve\n",
        "plt.title('XGBoost Classifier ROC Curve (Training)')\n",
        "plt.xlabel('FPR')\n",
        "plt.ylabel('TPR')\n",
        "plt.plot(fpr,tpr)\n",
        "plt.plot((0,1), ls = 'dashed', color = 'black')\n",
        "plt.show()"
      ],
      "metadata": {
        "id": "NPxG9tYx_j_E",
        "colab": {
          "base_uri": "https://localhost:8080/",
          "height": 301
        },
        "outputId": "71eb9142-9e41-43a6-e177-c5c415eeeeb3"
      },
      "execution_count": 92,
      "outputs": [
        {
          "output_type": "display_data",
          "data": {
            "text/plain": [
              "<Figure size 432x288 with 1 Axes>"
            ],
            "image/png": "[encoded data removed]"
          },
          "metadata": {}
        }
      ]
    },
    {
      "cell_type": "code",
      "source": [
        "# confusion matrix for testing set\n",
        "cm_test_xgb = confusion_matrix(y_test, y_pred_xgb)\n",
        "print(cm_test_xgb)\n",
        "\n",
        "ax = plt.subplot()\n",
        "sns.heatmap(cm_test_xgb, annot = True, cmap = 'BuPu', ax = ax)\n",
        "\n",
        "labels = ['Not Interested', 'Interested']\n",
        "ax.set_xlabel('Predicted labels')\n",
        "ax.set_ylabel('True labels')\n",
        "ax.set_title('Confusion Matrix (Testing)')\n",
        "ax.xaxis.set_ticklabels(labels)\n",
        "ax.yaxis.set_ticklabels(labels)"
      ],
      "metadata": {
        "id": "MRH69uid_9Gl",
        "colab": {
          "base_uri": "https://localhost:8080/",
          "height": 353
        },
        "outputId": "c8f4d4d8-c91c-4cb5-fc0b-c3218c983879"
      },
      "execution_count": 93,
      "outputs": [
        {
          "output_type": "stream",
          "name": "stdout",
          "text": [
            "[[75779 24673]\n",
            " [ 7236 92952]]\n"
          ]
        },
        {
          "output_type": "execute_result",
          "data": {
            "text/plain": [
              "[Text(0, 0.5, 'Not Interested'), Text(0, 1.5, 'Interested')]"
            ]
          },
          "metadata": {},
          "execution_count": 93
        },
        {
          "output_type": "display_data",
          "data": {
            "text/plain": [
              "<Figure size 432x288 with 2 Axes>"
            ],
            "image/png": "[encoded data removed]"
          },
          "metadata": {}
        }
      ]
    },
    {
      "cell_type": "code",
      "source": [
        "# confusion matrix for training set\n",
        "cm_train_xgb = confusion_matrix(y_train, y_train_pred_xgb)\n",
        "print(cm_train_xgb)\n",
        "\n",
        "ax = plt.subplot()\n",
        "sns.heatmap(cm_train_xgb, annot = True, cmap = 'BuPu', ax = ax)\n",
        "\n",
        "labels = ['Not Interested', 'Interested']\n",
        "ax.set_xlabel('Predicted labels')\n",
        "ax.set_ylabel('True labels')\n",
        "ax.set_title('Confusion Matrix (Training)')\n",
        "ax.xaxis.set_ticklabels(labels)\n",
        "ax.yaxis.set_ticklabels(labels)"
      ],
      "metadata": {
        "id": "mga5vagwAIh_",
        "colab": {
          "base_uri": "https://localhost:8080/",
          "height": 353
        },
        "outputId": "0154f65d-d90b-46a0-fc56-a1b6b207f748"
      },
      "execution_count": 94,
      "outputs": [
        {
          "output_type": "stream",
          "name": "stdout",
          "text": [
            "[[176339  57608]\n",
            " [ 17352 216859]]\n"
          ]
        },
        {
          "output_type": "execute_result",
          "data": {
            "text/plain": [
              "[Text(0, 0.5, 'Not Interested'), Text(0, 1.5, 'Interested')]"
            ]
          },
          "metadata": {},
          "execution_count": 94
        },
        {
          "output_type": "display_data",
          "data": {
            "text/plain": [
              "<Figure size 432x288 with 2 Axes>"
            ],
            "image/png": "[encoded data removed]"
          },
          "metadata": {}
        }
      ]
    }
  ]
}